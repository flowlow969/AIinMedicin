{
 "cells": [
  {
   "cell_type": "markdown",
   "metadata": {},
   "source": [
    "# Aufgaben-Zettel 1\n",
    "Lesen Sie das Skript und versuchen Sie die Aufgaben zu lösen.\n",
    "Details zum Notebook:\n",
    "1. Mit Shift + Enter führen Sie eine Zelle aus.\n",
    "- Sie können auch mehrere Befehle innerhalb einer Zelle ausführen.\n",
    "- Wenn Sie mit der Maus auf eine Zelle klicken, können Sie oben über \"Insert\" über oder unter der bisherigen Zelle eine neue Zelle einfügen."
   ]
  },
  {
   "cell_type": "markdown",
   "metadata": {},
   "source": [
    "## Aufgabe (a)\n",
    "Definieren Sie zwei Variablen a und b und weisen Sie den Variablen zwei natürliche Zahlen zu (z.B. 3 und 9). Geben Sie dann die Summe von a und b aus. Weisen Sie den Variablen dann dieselben Zahlen in Anführungszeichen zu (z.B. \"3\" etc.) und geben Sie wieder die Summe aus. Wieso ergeben beide Rechnungen unterschiedliche Werte?"
   ]
  },
  {
   "cell_type": "code",
   "execution_count": 14,
   "metadata": {},
   "outputs": [
    {
     "name": "stdout",
     "output_type": "stream",
     "text": [
      "12\n",
      "57\n"
     ]
    }
   ],
   "source": [
    "\n",
    "a = 5\n",
    "b = 7\n",
    "print(a + b)\n",
    "# Erhält zwei zahlen und adiert diese\n",
    "a = \"5\"\n",
    "b = \"7\"\n",
    "print(a + b)\n",
    "# Erhält zwei Strings und gibt diese als einen aus\n"
   ]
  },
  {
   "cell_type": "markdown",
   "metadata": {},
   "source": [
    "## Aufgabe (b)\n",
    "Suchen Sie sich die aktuelle Anzahl der in Deutschland mit dem Corona Virus infizierten Personen (z.B. über die Internetseite des Robert-Koch-Instituts). Berechnen Sie über die aktuelle Einwohnerzahl Deutschlands den relativen Anteil der Infizierten **(in Prozent!)** und runden Sie das Ergebnis auf vier Nachkommastellen."
   ]
  },
  {
   "cell_type": "code",
   "execution_count": 55,
   "metadata": {},
   "outputs": [
    {
     "data": {
      "text/plain": [
       "<matplotlib.axes._subplots.AxesSubplot at 0x12ad95590>"
      ]
     },
     "execution_count": 55,
     "metadata": {},
     "output_type": "execute_result"
    },
    {
     "data": {
      "image/png": "[encoded data removed]",
      "text/plain": [
       "<Figure size 432x288 with 1 Axes>"
      ]
     },
     "metadata": {
      "needs_background": "light"
     },
     "output_type": "display_data"
    }
   ],
   "source": [
    "import numpy as np\n",
    "import pandas as pd\n",
    "import matplotlib.pyplot as plt\n",
    "import seaborn as sns\n",
    "#reading data from the csv file\n",
    "df= pd.read_csv(\"covid_19_data.csv\")\n",
    "#getting a summary of the columns\n",
    "\n",
    "DE = df.loc[df['Country/Region'] == 'Germany']\n",
    "DE.drop(['SNo', 'Province/State', 'Country/Region', 'SNo', 'Last Update'], axis=1)\n",
    "DE.plot(style='.-',x = 'ObservationDate') "
   ]
  },
  {
   "cell_type": "markdown",
   "metadata": {},
   "source": [
    "## Aufgabe (c)\n",
    "Erzeugen Sie einen String der besteht aus 23 mal dem Buchstaben 'a', gefolgt von 8 mal dem Buchstaben 'b' und 34 mal dem Buchstaben 'c' (ohne explizit 23 mal a einzugeben, usw.). "
   ]
  },
  {
   "cell_type": "code",
   "execution_count": 80,
   "metadata": {},
   "outputs": [
    {
     "name": "stdout",
     "output_type": "stream",
     "text": [
      "aaaaaaaaaaaaaaaaaaaaaaabbbbbbbbcccccccccccccccccccccccccccccccccc\n"
     ]
    }
   ],
   "source": [
    "test = \"\"\n",
    "def app(n,c):\n",
    "    string = \"\"\n",
    "    for cnt in range(n):\n",
    "        string += c\n",
    "    return(string)\n",
    "        \n",
    "        \n",
    "test += app(23,\"a\")\n",
    "test += app(8,\"b\")\n",
    "test += app(34,\"c\")\n",
    "    \n",
    "print(test)"
   ]
  },
  {
   "cell_type": "markdown",
   "metadata": {},
   "source": [
    "## Aufgabe (d)\n",
    "Gebeben ist der String Teststring. Benutzen Sie eckige Klammern um Teile des Strings auszugeben. Geben sie nacheinander aus: \n",
    "1. die ersten 10 Zeichen des Wortes \n",
    "- den 7. Buchstaben (Bemerkung die Antwort ist nicht 'e')\n",
    "- den Teil \"grandios\"\n",
    "- kombinieren Sie die Ausgabe so dass Sie \"malPython\" erhalten\n",
    "- den 5. Buchstaben von hinten \n",
    "- die letzten 19 Zeichen"
   ]
  },
  {
   "cell_type": "code",
   "execution_count": 51,
   "metadata": {},
   "outputs": [
    {
     "name": "stdout",
     "output_type": "stream",
     "text": [
      "Ichwerdema\n",
      "d\n",
      "grandios\n",
      "i\n",
      "PythonProgrammierer\n"
     ]
    }
   ],
   "source": [
    "Teststring = \"IchwerdemaleingrandioserPythonProgrammierer\"\n",
    "print(Teststring[0:10])\n",
    "print(Teststring[6])\n",
    "print(Teststring[Teststring.rfind(\"grandios\"):len(\"grandios\")+Teststring.rfind(\"grandios\")])\n",
    "print(Teststring[len(Teststring)-5])\n",
    "print(Teststring[len(Teststring)-19:len(Teststring)])\n"
   ]
  },
  {
   "cell_type": "markdown",
   "metadata": {},
   "source": [
    "## Aufgabe (e)\n",
    "Erzeugen Sie eine Liste mit den folgenden Elementen: \n",
    "3, \"Apfel\", 2.3, \"Python\".\n",
    "Geben Sie die Länge der Liste aus. Ersetzen Sie dann den \"Apfel\" mit einer \"Birne\". Fügen Sie der Liste dann die Elemente \"Pfirsich\" und 3.14 hinzu und geben Sie die Länge der Liste erneut aus.\n"
   ]
  },
  {
   "cell_type": "code",
   "execution_count": 67,
   "metadata": {},
   "outputs": [
    {
     "name": "stdout",
     "output_type": "stream",
     "text": [
      "4\n",
      "[3, 'Birne', 2.3, 'Python', 3.14, 'Pfirsich']\n",
      "6\n"
     ]
    }
   ],
   "source": [
    "new = [3, \"Apfel\", 2.3, \"Python\"]\n",
    "print(len(new))\n",
    "new.insert(new.index(\"Apfel\"),\"Birne\")\n",
    "new.remove(\"Apfel\")\n",
    "new.append(3.14)\n",
    "new.append(\"Pfirsich\")\n",
    "print(new)\n",
    "print(len(new))"
   ]
  }
 ],
 "metadata": {
  "kernelspec": {
   "display_name": "Python 3",
   "language": "python",
   "name": "python3"
  },
  "language_info": {
   "codemirror_mode": {
    "name": "ipython",
    "version": 3
   },
   "file_extension": ".py",
   "mimetype": "text/x-python",
   "name": "python",
   "nbconvert_exporter": "python",
   "pygments_lexer": "ipython3",
   "version": "3.7.4"
  }
 },
 "nbformat": 4,
 "nbformat_minor": 2
}
