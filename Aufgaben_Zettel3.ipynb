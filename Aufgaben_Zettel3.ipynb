{
 "cells": [
  {
   "cell_type": "markdown",
   "metadata": {},
   "source": [
    "# Aufgaben-Zettel 3\n",
    "Es gibt ein paar Aufgaben die zur Wiederholung dienen und zum \"Einschleifen\" des Gelernten. Am Ende werden wir zwei Pakete einführen: das numpy Paket hat viele Funktionen die beim Programmieren der Machine Learning-Methoden nützlich sind. Und das Matplotlib Paket ist ein sehr weit verbreitetes Paket mit dem wir Daten visualisieren können.\n",
    "\n",
    "\n",
    "## Aufgabe (a)\n",
    "Die Collatz-Vermutung: Schreiben Sie eine Funktion die eine natürliche Zahl n als Variable bekommt. Die Funktion soll die Schritte zählen die man braucht, bis man bei der Zahl 1 angekommen ist. Dabei gilt folgende Vorschrift: Wenn die Zahl n ungerade ist, berechnet sich das neue n durch: n=3n+1. Falls die Zahl gerade ist durch: n=n/2. Befolgen Sie diese Vorschrift solange bis die Zahl 1 erreicht wurde und geben Sie die Anzahl der Schritte aus. Testen Sie die Funktion dann mit den Zahlen 1-20."
   ]
  },
  {
   "cell_type": "code",
   "execution_count": 21,
   "metadata": {},
   "outputs": [
    {
     "name": "stdout",
     "output_type": "stream",
     "text": [
      "0\n",
      "0\n",
      "1\n",
      "7\n",
      "2\n",
      "5\n",
      "8\n",
      "16\n",
      "3\n",
      "19\n",
      "6\n",
      "14\n",
      "9\n",
      "9\n",
      "17\n",
      "17\n",
      "4\n",
      "12\n",
      "20\n",
      "20\n"
     ]
    }
   ],
   "source": [
    "def collatz(num, argprint = False):\n",
    "    \"\"\"Zeigt collatz vermutung, sie erhält eine Zahl vom typ int und nach bedarf einen boolschen ausdruck zur ausgabe zwischenergebnise\"\"\"\n",
    "    cnt = 0\n",
    "    while num > 1:\n",
    "        if argprint: print(num)\n",
    "        if num % 2 == 0: num = num // 2\n",
    "        elif num % 2 == 1: num = 3 * num + 1\n",
    "        cnt +=  1\n",
    "    return int(cnt)\n",
    "\n",
    "for cnt in range(20):\n",
    "    print(collatz(cnt))"
   ]
  },
  {
   "cell_type": "markdown",
   "metadata": {},
   "source": [
    "## Aufgabe (b)\n",
    "Schreiben Sie eine Funktion die den größten gemeinsamen Teiler (ggT) zweier Zahlen bestimmt. Falls Sie sich nicht mehr sicher sind was der ggT ist, Wikipedia hilft."
   ]
  },
  {
   "cell_type": "code",
   "execution_count": 2,
   "metadata": {},
   "outputs": [
    {
     "name": "stdout",
     "output_type": "stream",
     "text": [
      "13\n"
     ]
    }
   ],
   "source": [
    "def gcd(a, b):\n",
    "    \"\"\"Diese Funktion findet den grössten gemeinsamen Teiler   von zwei Zahlen des typen Int\"\"\" \n",
    "    if a < b:\n",
    "        l = a\n",
    "        a = b\n",
    "        b = l\n",
    "    while(b != 0):\n",
    "        h = a % b\n",
    "        a = b\n",
    "        b = h\n",
    "    return abs(a)\n",
    "\n",
    "\n",
    "print(gcd(65,143))"
   ]
  },
  {
   "cell_type": "markdown",
   "metadata": {},
   "source": [
    "## Aufgabe (c)\n",
    "Wir kommen jetzt zum ersten Paket numpy. Pakete können uns helfen indem sie z.B. eine vielzahl vorgefertigter Funktionen besitzen, die wir dann einfach benutzen können ohne dass wir jede Funktion selber programmieren müssen. Im Skript werden Pakete und Module auf den Seiten 45-53 behandelt. Es lohnt sich sicher da mal reinzuschauen. \n",
    "\n",
    "Zunächst ist die Liste Meine_Zahlen gegeben. Berechnen Sie mit Schleifen die Summe aller Zahlen, den Mittelwert und die Varianz."
   ]
  },
  {
   "cell_type": "code",
   "execution_count": 3,
   "metadata": {},
   "outputs": [],
   "source": [
    "Meine_Zahlen = [2, 1, 17, 3, 9, 6, 17, 0, 3, 6, 7, 17, 7, 18, 17, 2, 16, 7, 9, 12, 7, 15, 14, 6, 6, 15, 6, 13]"
   ]
  },
  {
   "cell_type": "code",
   "execution_count": 23,
   "metadata": {},
   "outputs": [
    {
     "name": "stdout",
     "output_type": "stream",
     "text": [
      "258\n",
      "9.214285714285714\n",
      "31.525510204081634\n"
     ]
    }
   ],
   "source": [
    "def sum(liste):\n",
    "    buff = 0\n",
    "    for element in liste:\n",
    "        buff += element\n",
    "    return(buff)\n",
    "\n",
    "def mean(liste):\n",
    "    return (sum(liste)/len(liste))\n",
    "\n",
    "def var(liste):\n",
    "    u = mean(liste)\n",
    "    buff = 0\n",
    "    for element in liste:\n",
    "        buff += (element-u)**2\n",
    "    return buff/len(liste)\n",
    "\n",
    "print(sum(Meine_Zahlen))\n",
    "print(mean(Meine_Zahlen))\n",
    "print(var(Meine_Zahlen))"
   ]
  },
  {
   "cell_type": "markdown",
   "metadata": {},
   "source": [
    "Das Paket numpy hilft uns dabei mit großen Datenmengen zu arbeiten, vor allem von Arrays (also großen Datentabellen). Die Abkürzung numpy steht dabei für numerical python. Man importiert numpy mit dem folgenden Befehl:"
   ]
  },
  {
   "cell_type": "code",
   "execution_count": 3,
   "metadata": {},
   "outputs": [],
   "source": [
    "import numpy as np"
   ]
  },
  {
   "cell_type": "markdown",
   "metadata": {},
   "source": [
    "Numpy beinhaltet viele Funktionen, z.B. die Berechnung der Summe, Mittelwert und der Varianz, das was wir vorher per Hand programmiert haben. Die Funktion ruft man auf mit np.sum(x), np.mean(x) und np.var(x). Der Ausdruck \"np\" macht klar, dass wir uns auf das numpy Paket beziehen. Dann folgt ein Punkt und dann die Funktion die wir aus dem Repertoir des numpy Pakets auswählen. Diese Syntax ist bei der Nutzung von Paketen immer gleich. Berechnen Sie jetzt wieder die Summe, Mittelwert und Varianz von Meine_Zahlen indem sie die numpy Funktionen benutzen. Vergleich Sie Ihr Ergebnis mit Ihren eigenen Rechnungen."
   ]
  },
  {
   "cell_type": "code",
   "execution_count": 22,
   "metadata": {},
   "outputs": [
    {
     "name": "stdout",
     "output_type": "stream",
     "text": [
      "258\n",
      "9.214285714285714\n",
      "31.525510204081627\n"
     ]
    }
   ],
   "source": [
    "print(np.sum(Meine_Zahlen))\n",
    "print(np.mean(Meine_Zahlen))\n",
    "print(np.var(Meine_Zahlen))"
   ]
  },
  {
   "cell_type": "markdown",
   "metadata": {},
   "source": [
    "Benutzen Sie nun die Funktionen: np.min, np.max, np.argmin, np.argmax. Was machen diese Funktionen?"
   ]
  },
  {
   "cell_type": "code",
   "execution_count": 29,
   "metadata": {},
   "outputs": [
    {
     "name": "stdout",
     "output_type": "stream",
     "text": [
      "Min gibt den Niedrgsten wert in der Liste aus.\n",
      "0\n",
      "Max gibt den Höchsten wert in der Liste aus.\n",
      "18\n",
      "argmin gibt den Index des Niedirigsten werts in der Liste aus.\n",
      "7\n",
      "argmax gibt den Index des Höchsten werts in der Liste aus.\n",
      "13\n"
     ]
    }
   ],
   "source": [
    "print('Min gibt den Niedrgsten wert in der Liste aus.')\n",
    "print(np.min(Meine_Zahlen))\n",
    "print('Max gibt den Höchsten wert in der Liste aus.')\n",
    "print(np.max(Meine_Zahlen))\n",
    "print('argmin gibt den Index des Niedirigsten werts in der Liste aus.')\n",
    "print(np.argmin(Meine_Zahlen))\n",
    "print('argmax gibt den Index des Höchsten werts in der Liste aus.')\n",
    "print(np.argmax(Meine_Zahlen))\n"
   ]
  },
  {
   "cell_type": "markdown",
   "metadata": {},
   "source": [
    "Mit dem Numpy Paket können Datenmengen auch geladen und abgespeichert werden. Das zugehörige Dateiformat lautet .npy Wichtig: .npy Dateien sind keine python Skripte sondern enthalten lediglich Daten (diese Daten finden Sie im StudIP unter Dateien). Laden Sie jetzt mit dem Befehl np.load(\"Test_Daten.npy\") die Daten ein. Dazu muss sich die Datei im richtigen Pfad befinden. Berechnen Sie dann wieder die Summe, Mittelwert und Varianz der Daten."
   ]
  },
  {
   "cell_type": "code",
   "execution_count": 16,
   "metadata": {},
   "outputs": [
    {
     "name": "stdout",
     "output_type": "stream",
     "text": [
      "sum:2.43049500963448\n",
      "mean:0.0243049500963448\n",
      "var:0.52312561162692\n"
     ]
    }
   ],
   "source": [
    "file = 'Test_Daten.npy'\n",
    "def load(path):  \n",
    "    '''läd ein dict aus einer übergebenen datei und gibt es zurück'''\n",
    "    try:\n",
    "        buffer = np.load(path, allow_pickle='TRUE')\n",
    "        return (buffer)\n",
    "    except FileNotFoundError:\n",
    "        print('The given path is not corect')\n",
    "\n",
    "def safe(path,dictionary): \n",
    "    '''Speichert das übergebene dict am. übergebenen ort'''\n",
    "    np.save(path, dictionary)\n",
    "\n",
    "df = load(file)\n",
    "\n",
    "ergebnise = {}\n",
    "ergebnise['sum'] = np.sum(df)\n",
    "ergebnise['mean'] = np.mean(df)\n",
    "ergebnise['var'] = np.var(df)\n",
    "for key, arg in ergebnise.items():\n",
    "    print(key + ':' + str(arg))\n",
    "\n",
    "safe('Ergebnise.npy', ergebnise)"
   ]
  },
  {
   "cell_type": "markdown",
   "metadata": {},
   "source": [
    "Schreiben Sie die ermittelten Wert für die Summe, Mittelwert und Varianz in eine Liste und speichern Sie die Liste mit dem Befehl np.save(\"Name_Der_Daten\", Liste) ab."
   ]
  },
  {
   "cell_type": "code",
   "execution_count": null,
   "metadata": {},
   "outputs": [],
   "source": []
  },
  {
   "cell_type": "markdown",
   "metadata": {},
   "source": [
    "## Aufgabe (d)\n",
    "Um unsere Daten und Berechnungen zu visualisieren benötigen wir noch das matplotlib Paket. Wir laden das Paket mit dem folgenden Befehl:"
   ]
  },
  {
   "cell_type": "code",
   "execution_count": 3,
   "metadata": {},
   "outputs": [],
   "source": [
    "import matplotlib.pyplot as plt"
   ]
  },
  {
   "cell_type": "markdown",
   "metadata": {},
   "source": [
    "Um Daten zu plotten benötigen wir x-Werte und y-Werte. Diese müssen die gleiche Anzahl an Werten besitzen. Dies können wir leicht durch len(x) herausfinden. Wir erstellen jetzt Datenpunkte mit der np.arange Funktion."
   ]
  },
  {
   "cell_type": "code",
   "execution_count": 18,
   "metadata": {},
   "outputs": [],
   "source": [
    "x = np.arange(0, 20, 0.2) # Erstest funktionsargument: Start wert\n",
    "                          # Zweites funktionsargument: Maximal wert (wird nicht ereicht)\n",
    "                          # Schrittweite"
   ]
  },
  {
   "cell_type": "markdown",
   "metadata": {},
   "source": [
    "Lassen Sie sich x ausgeben und finden Sie durch probieren heraus, was die Bedeutung der drei Argumente ist."
   ]
  },
  {
   "cell_type": "code",
   "execution_count": 19,
   "metadata": {},
   "outputs": [
    {
     "name": "stdout",
     "output_type": "stream",
     "text": [
      "[ 0.   0.2  0.4  0.6  0.8  1.   1.2  1.4  1.6  1.8  2.   2.2  2.4  2.6\n",
      "  2.8  3.   3.2  3.4  3.6  3.8  4.   4.2  4.4  4.6  4.8  5.   5.2  5.4\n",
      "  5.6  5.8  6.   6.2  6.4  6.6  6.8  7.   7.2  7.4  7.6  7.8  8.   8.2\n",
      "  8.4  8.6  8.8  9.   9.2  9.4  9.6  9.8 10.  10.2 10.4 10.6 10.8 11.\n",
      " 11.2 11.4 11.6 11.8 12.  12.2 12.4 12.6 12.8 13.  13.2 13.4 13.6 13.8\n",
      " 14.  14.2 14.4 14.6 14.8 15.  15.2 15.4 15.6 15.8 16.  16.2 16.4 16.6\n",
      " 16.8 17.  17.2 17.4 17.6 17.8 18.  18.2 18.4 18.6 18.8 19.  19.2 19.4\n",
      " 19.6 19.8]\n"
     ]
    }
   ],
   "source": [
    "print(x)"
   ]
  },
  {
   "cell_type": "markdown",
   "metadata": {},
   "source": [
    "Die y-Werte erzeugen wir auch mit einer numpy Funktion: np.sin(x)."
   ]
  },
  {
   "cell_type": "code",
   "execution_count": 20,
   "metadata": {},
   "outputs": [],
   "source": [
    "y = np.sin(x)"
   ]
  },
  {
   "cell_type": "markdown",
   "metadata": {},
   "source": [
    "Jetzt plotten wir diese Werte mit dem matplotlib Paket und lassen uns das Ergebnis anzeigen. Dabei darf die passende Achsenbeschriftung nicht fehlen:"
   ]
  },
  {
   "cell_type": "code",
   "execution_count": 21,
   "metadata": {},
   "outputs": [
    {
     "data": {
      "image/png": "[encoded data removed]",
      "text/plain": [
       "<Figure size 432x288 with 1 Axes>"
      ]
     },
     "metadata": {
      "needs_background": "light"
     },
     "output_type": "display_data"
    }
   ],
   "source": [
    "plt.plot(x, y)\n",
    "plt.xlabel(\"x\")\n",
    "plt.ylabel(\"y\")\n",
    "plt.show()"
   ]
  },
  {
   "cell_type": "markdown",
   "metadata": {},
   "source": [
    "Der plot Befehl verbindet die Datenpunkte also. Wenn wir einzelne Datenpunkte ohne Verbindungslinie plotten wollen, benutzen wir die scatter(x, y) Funktion. Laden Sie die Daten aus der Datei \"Test_Daten.npy\" in die Variable \"ScatterDaten\" damit Sie mit dem folgenden Code die Funktion ausführen können:\n"
   ]
  },
  {
   "cell_type": "code",
   "execution_count": 22,
   "metadata": {},
   "outputs": [],
   "source": [
    "ScatterDaten = load(file)"
   ]
  },
  {
   "cell_type": "code",
   "execution_count": 23,
   "metadata": {},
   "outputs": [
    {
     "data": {
      "image/png": "[encoded data removed]",
      "text/plain": [
       "<Figure size 432x288 with 1 Axes>"
      ]
     },
     "metadata": {
      "needs_background": "light"
     },
     "output_type": "display_data"
    }
   ],
   "source": [
    "plt.scatter(x, ScatterDaten)\n",
    "plt.xlabel(\"x\")\n",
    "plt.ylabel(\"y\")\n",
    "plt.show()"
   ]
  },
  {
   "cell_type": "markdown",
   "metadata": {},
   "source": [
    "Wir können auch mehrere Plots in einer Abbildung darstellen:"
   ]
  },
  {
   "cell_type": "code",
   "execution_count": 24,
   "metadata": {},
   "outputs": [
    {
     "data": {
      "image/png": "[encoded data removed]",
      "text/plain": [
       "<Figure size 432x288 with 1 Axes>"
      ]
     },
     "metadata": {
      "needs_background": "light"
     },
     "output_type": "display_data"
    }
   ],
   "source": [
    "plt.scatter(x, ScatterDaten)\n",
    "plt.plot(x, y)\n",
    "plt.xlabel(\"x\")\n",
    "plt.ylabel(\"y\")\n",
    "plt.show()"
   ]
  },
  {
   "cell_type": "markdown",
   "metadata": {},
   "source": [
    "## Aufgabe (e)\n",
    "Versuchen Sie jetzt die Ergebnisse aus Aufgabe (a) darzustellen. Auf der x-Achse soll die Zahl aufgetragen werden, und auf der y-Achse die Anzahl der Schritte. Nutzen Sie die scatter Funktion und stellen Sie die Daten bis zur Zahl 50 dar. Wählen Sie eine passende Achsenbeschriftung."
   ]
  },
  {
   "cell_type": "code",
   "execution_count": 16,
   "metadata": {},
   "outputs": [
    {
     "data": {
      "image/png": "[encoded data removed]",
      "text/plain": [
       "<Figure size 432x288 with 1 Axes>"
      ]
     },
     "metadata": {
      "needs_background": "light"
     },
     "output_type": "display_data"
    }
   ],
   "source": [
    "x = []\n",
    "y = []\n",
    "for cnt in range(2000):\n",
    "    x.append(cnt)\n",
    "    y.append(collatz(cnt))\n",
    "\n",
    "\n",
    "plt.scatter(x, y)\n",
    "plt.xlabel(\"x\")\n",
    "plt.ylabel(\"y\")\n",
    "plt.show()\n",
    "\n",
    "    "
   ]
  },
  {
   "cell_type": "code",
   "execution_count": null,
   "metadata": {},
   "outputs": [],
   "source": []
  },
  {
   "cell_type": "code",
   "execution_count": null,
   "metadata": {},
   "outputs": [],
   "source": []
  }
 ],
 "metadata": {
  "kernelspec": {
   "display_name": "Python 3",
   "language": "python",
   "name": "python3"
  },
  "language_info": {
   "codemirror_mode": {
    "name": "ipython",
    "version": 3
   },
   "file_extension": ".py",
   "mimetype": "text/x-python",
   "name": "python",
   "nbconvert_exporter": "python",
   "pygments_lexer": "ipython3",
   "version": "3.7.4"
  }
 },
 "nbformat": 4,
 "nbformat_minor": 2
}
