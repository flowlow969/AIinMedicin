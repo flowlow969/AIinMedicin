{
 "cells": [
  {
   "cell_type": "markdown",
   "metadata": {},
   "source": [
    "# Aufgaben-Zettel 2\n",
    "Sie kennen sich jetzt mit den grundlegenden Strukturen und auch mit der Funktionsweise des Notebooks aus. Ich hoffe Sie haben dabei auch ein paar Fehler gemacht, denn nur so lernt man Programmieren.\n",
    "\n",
    "Auf dem neuen Zettel geht es um Schleifen und deren Steuerung (Ausdrücke wie while, if, for, range, break, continue werden vorkommen). Wir werden auch die ersten Funktionen programmieren und uns mit Datenstrukturen beschäftigen (hier: ein dictionary, das ist tatsächlich sowas wie ein \"Wörterbuch\").\n",
    "1. Wichtig: Beim Programmieren schreibt man in den allermeisten Fällen nicht sofort das richtige Programm einfach so runter. Lassen Sie sich davon nicht demotivieren!\n",
    "- Es geht beim Programmieren sehr oft darum, den Fehler zu verstehen, schauen warum er aufgetreten ist und ihn dann zu beheben. Die Fehlermeldung selber kann dabei auch oft helfen.\n",
    "- Falls Sie irgendwo feststecken: Schreiben Sie Ihre Frage gerne ins StudIP Forum. Ihre Kollegen ich können da zusammen diskutieren, dabei lernt man oft am besten!\n",
    "\n",
    "\n",
    "## Aufgabe (a)\n",
    "Schreiben Sie eine Fuktion die als Argument zwei Variablen a und b bekommt, und die als Ergebnis die Summe der beiden Variablen zurückgibt. Schreiben Sie das Ergebnis in eine Variable \"Summe\" und geben Sie das Ergebnis aus. Vergessen Sie dabei den \"return\" Ausdruck in der Funktion nicht. Addieren Sie dann zwei beliebige Zahlen. "
   ]
  },
  {
   "cell_type": "code",
   "execution_count": 1,
   "metadata": {},
   "outputs": [
    {
     "name": "stdout",
     "output_type": "stream",
     "text": [
      "5\n"
     ]
    }
   ],
   "source": [
    "def add(a,b):\n",
    "    return(a+b)\n",
    "A = 2\n",
    "B = 3\n",
    "print(add(A,B))"
   ]
  },
  {
   "cell_type": "markdown",
   "metadata": {},
   "source": [
    "## Aufgabe (b)\n",
    "Kopieren Sie die Funktion aus (a). Ersetzen Sie dabei den return Ausdruck am Ende, mit einem print() Befehl (die Funktion soll das Ergebnis der Addition also mit print rausschreiben). Worin unterscheiden sich die beiden Funktionen und welche Auswirkungen kann das haben, wenn man z.B. mit dem Ergebnis der Summe weiterrechnen will."
   ]
  },
  {
   "cell_type": "code",
   "execution_count": 3,
   "metadata": {},
   "outputs": [
    {
     "name": "stdout",
     "output_type": "stream",
     "text": [
      "5\n"
     ]
    }
   ],
   "source": [
    "def add(a,b):\n",
    "    print(a+b)\n",
    "A = 2\n",
    "B = 3\n",
    "add(A, B)"
   ]
  },
  {
   "cell_type": "markdown",
   "metadata": {},
   "source": [
    "## Aufgabe (c)\n",
    "Schreiben Sie eine Funktion, die als Argumente zwei Variablen a und b bekommt. Die Funktion soll den Ausdruck (a+b)^2 ausgeben. Lagern Sie dabei die Summe a+b in eine zweite Funktion aus, und berechnen Sie nur das Quadrieren in der Hauptfunktion."
   ]
  },
  {
   "cell_type": "code",
   "execution_count": 5,
   "metadata": {},
   "outputs": [
    {
     "data": {
      "text/plain": [
       "25"
      ]
     },
     "execution_count": 5,
     "metadata": {},
     "output_type": "execute_result"
    }
   ],
   "source": [
    "def add(a,b):\n",
    "    return(a+b)\n",
    "def addsqr(a,b):\n",
    "    return(add(a,b)**2)\n",
    "A = 2\n",
    "B = 3\n",
    "addsqr(A, B)\n"
   ]
  },
  {
   "cell_type": "markdown",
   "metadata": {},
   "source": [
    "## Aufgabe (d)\n",
    "Schreiben Sie eine Funktion, mit der eine gegebene Temperatur in Grad Celsius in Grad Fahrenheit umgerechnet wird."
   ]
  },
  {
   "cell_type": "code",
   "execution_count": 18,
   "metadata": {},
   "outputs": [
    {
     "data": {
      "text/plain": [
       "35.55555555555556"
      ]
     },
     "execution_count": 18,
     "metadata": {},
     "output_type": "execute_result"
    }
   ],
   "source": [
    "def far2cel(t):\n",
    "    return((t-32)*(5/9))\n",
    "    \n",
    "\n",
    "def cel2far(t):\n",
    "    return((t*(9/5))+32)\n",
    "\n",
    "T1 = 0.01\n",
    "cel2far(T1) #Ecpectet output: 32.018°F\n",
    "\n",
    "T2 = 96\n",
    "far2cel(T2) #Ecpectet output: 35.55°C"
   ]
  },
  {
   "cell_type": "markdown",
   "metadata": {},
   "source": [
    "## Aufgabe (e)\n",
    "Schreiben Sie eine Funktion mit einer Variablen x als Argument, die feststellen soll ob x eine Primzahl ist. Die Ausgabe sollte dabei so aussehen: \n",
    "\n",
    "\"Die Zahl 5 ist eine Primzahl.\"\n",
    "oder\n",
    "\"Die Zahl 6 ist keine Primzahl.\"\n",
    "\n",
    "Dabei ist der % Operator sehr nützlich, der den Rest einer Division angibt: 3%2 = 1.\n",
    "\n",
    "Schreiben Sie dann eine zweite Funktion, die alle Primzahlen bis zur Zahl 100 ausgibt (das Argument der Funktion ist also die größte Zahl nach der gesucht werden soll, in unserem Fall also 100). Sie können Ihre vorherige Funktion dabei vielleicht ausnutzen.\n"
   ]
  },
  {
   "cell_type": "code",
   "execution_count": null,
   "metadata": {},
   "outputs": [],
   "source": [
    "def primechek(n):\n",
    "    divider = 2\n",
    "    while(True):\n",
    "        if n % divider == 0:\n",
    "            return False\n",
    "        elif divider * divider > n:\n",
    "            return True\n",
    "        divider = divider + 1\n",
    "        \n",
    "def PrimeCheckWithOutput(x):\n",
    "    if primechek(x) == True:\n",
    "        print(\"The Number \" + str(x) + \" is a Prime.\")\n",
    "    else:\n",
    "        print(\"The Number \" + str(x) + \" is not a Prime.\")\n",
    "def getallPrimes(cnt):\n",
    "    for cnt1 in range(cnt):\n",
    "        if primechek(cnt1) == True:\n",
    "            print(\"The Number \" + str(cnt1) + \" is a Prime.\")\n",
    "        \n",
    "        \n",
    "PrimeCheckWithOutput(12)\n",
    "getallPrimes(100)"
   ]
  },
  {
   "cell_type": "markdown",
   "metadata": {},
   "source": [
    "## Aufgabe (f)\n",
    "Sie sollen ein Telefonbuch implementieren. Erzeugen Sie zunächst ein leeres Telefonbuch (dictionary).\n",
    "\n",
    "### Das Dictionary: ein Wörterbuch\n",
    "Ein dictionary enthält Schlüssel und den dazu passenden Wert. Es funktioniert tatsächlich wie ein Wörterbuch. Wenn man z.B. bei einem Deutsch-Englisch Wörterbuch den Schlüssel \"Tasse\" eingibt, gibt es den Wert \"cup\" zurück. Ein Telefonbuch ist somit nicht viel anders. Der Name der Person ist der Schlüssel, die zugehörige Telefonnummer ist der zugehörige Wert.\n",
    "\n",
    "### Programmieren Sie zwei Funktionen\n",
    "Anfangs ist das Telefonbuch noch leer. Programmieren Sie jetzt zwei Funktionen. Die erste Funktion \n",
    "\n",
    "def add_entry():\n",
    "\n",
    "soll dem Telefonbuch einen Eintrag hinzufügen. Die zweite Funktion\n",
    "\n",
    "def give_number():\n",
    "\n",
    "soll die Telefonnummer zum passenden Namen ausgeben.\n",
    "\n",
    "Sie haben vielleicht bemerkt, dass beide Funktionen keine Argumente haben. Das Name-Nummer Paar beim Eintragen und der Name den die zweite Funktion braucht um zu wissen welche Nummer der User wissen will soll der User selber eingeben. Dies kann man mit dem \"input()\" Befehl lösen.\n",
    "\n",
    "Ein Beispiel zum Input Befehl ist auf Seite 21 zu sehen. Versuchen Sie in der ersten Funktion den Namen und die Nummer (nacheinander) per input vom User zu erfahren und diese dann im Telefonbuch abzuspeichern.\n",
    "\n",
    "Die zweite Funktion soll auch über den Input den Namen einlesen, zu dem der User die passende Telefonnummer haben soll. Testen Sie dann Ihr Programm indem Sie drei Einträge machen und sich dann eine der drei Nummern ausgeben lassen."
   ]
  },
  {
   "cell_type": "code",
   "execution_count": null,
   "metadata": {},
   "outputs": [],
   "source": [
    "import numpy as np\n",
    "Telefonbuch = {}\n",
    "file = 'my_file.npy' #Pfad unter dem das Adressbuch gespeichert wird\n",
    "\n",
    "def safe(path,dictionary): #Speichert das übergebene dict am. übergebenen ort\n",
    "    np.save(path, dictionary)\n",
    "\n",
    "def load(path):  #läd ein dict aus einer übergebenen datei und gibt es zurück\n",
    "    try:\n",
    "        read_dictionary = np.load(path, allow_pickle='TRUE').item()\n",
    "        return (read_dictionary)\n",
    "    except FileNotFoundError:\n",
    "        print('The given path is not corect')\n",
    "\n",
    "\n",
    "def add_entry(dictionary): #Liest einen Kontakt vom benutzer ein und legt ihn im übergebenen dict ab\n",
    "    while True:\n",
    "        print('Enter a name:')\n",
    "        x = input()\n",
    "        if len(x) != 0:\n",
    "            name = x\n",
    "            break\n",
    "        else:\n",
    "            print('You entered no Name')\n",
    "    while True:\n",
    "        print('Enter a number:')\n",
    "        x = input()\n",
    "        if len(x) != 0:\n",
    "            number = x\n",
    "            break\n",
    "        else:\n",
    "            print('You entered no number')\n",
    "\n",
    "    dictionary[name] = number\n",
    "\n",
    "\n",
    "def give_number(dictionary): #Liest einen Namen. vom benutzer ein und gibt die nummer fals dieser vorhanden ist zurück\n",
    "    while True:\n",
    "        while True:\n",
    "            print('Enter a name you are looking for:')\n",
    "            x = input()\n",
    "            if len(x) != 0:\n",
    "                name = x\n",
    "                break\n",
    "            else:\n",
    "                print('You entered no Name')\n",
    "        if name in dictionary:\n",
    "            print(name + \" has the Number: \" + dictionary[name])\n",
    "            break\n",
    "        else:\n",
    "            print(name + \" is not in your adressbook\")\n",
    "            print(\"do you want to ad this contact(Y/N)\")\n",
    "            while True:\n",
    "                x = input()\n",
    "                if (x == \"Y\") or (x == \"N\") or (x == \"y\") or (x == \"n\"):\n",
    "                    buff = x\n",
    "                    break\n",
    "                else:\n",
    "                    print('You entered the wrong charakter')\n",
    "            if (buff == \"Y\") or (buff == \"y\"):\n",
    "                add_entry()\n",
    "            else:\n",
    "                break\n",
    "def init4storeg(path): #muss vor dem ersten speichern des Telefonbuchs ausgeführt werden, danach nicht mehr benötigt\n",
    "    try:\n",
    "        read_dictionary = np.load(path, allow_pickle='TRUE').item()\n",
    "        print('dictionary already exists')\n",
    "    except FileNotFoundError:\n",
    "        buffer = {}\n",
    "        np.save(path,buffer)\n",
    "\n",
    "def showall(dictionary): #Zeigt alle vorhanden kontakte an\n",
    "    try:\n",
    "        print('These are all contacts u have stored.')\n",
    "        print('name' + ' : ' + 'number')\n",
    "        for contact,number in dictionary.items():\n",
    "            print(contact + ' : ' + number)\n",
    "    except AttributeError:\n",
    "        print('no contacts, pls make friends :(')\n",
    "\n",
    "init4storeg(file)\n",
    "Telefonbuch = load(file)\n",
    "showall(Telefonbuch)\n",
    "add_entry(Telefonbuch)\n",
    "showall(Telefonbuch)\n",
    "give_number(Telefonbuch)\n",
    "safe(file, Telefonbuch)\n",
    "\n"
   ]
  },
  {
   "cell_type": "markdown",
   "metadata": {},
   "source": [
    "### Zusatzaufgabe:\n",
    "Was passiert wenn ein Name noch nicht im Telefonbuch enthalten ist, aber man mit der zweiten Funktion die Nummer haben möchte? Weisen Sie den User für diesen Fall mit einer Nachricht darauf hin, dass dieser Eintrag noch nicht existiert."
   ]
  },
  {
   "cell_type": "code",
   "execution_count": null,
   "metadata": {},
   "outputs": [],
   "source": []
  }
 ],
 "metadata": {
  "kernelspec": {
   "display_name": "Python 3",
   "language": "python",
   "name": "python3"
  },
  "language_info": {
   "codemirror_mode": {
    "name": "ipython",
    "version": 3
   },
   "file_extension": ".py",
   "mimetype": "text/x-python",
   "name": "python",
   "nbconvert_exporter": "python",
   "pygments_lexer": "ipython3",
   "version": "3.7.4"
  }
 },
 "nbformat": 4,
 "nbformat_minor": 2
}
