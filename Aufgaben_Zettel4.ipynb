{
 "cells": [
  {
   "cell_type": "markdown",
   "metadata": {},
   "source": [
    "# Aufgaben-Zettel 4\n",
    "Auf diesem Zettel gibt es neben Wiederholungsaufgaben auch komplexere Aufgaben zu Techniken des Maschinellen Lernens. Diese Beispiele werden wir zukünftig in der Vorlesung noch ausgiebiger besprechen. Da die Vorlesung am Ostermontag ausfallen würde, haben Sie für diesen Zettel bis zum 20. April Zeit.\n",
    "\n",
    "\n",
    "\n",
    "## Aufgabe (a)\n",
    "Im IT Bereich hat man es oft mit großen Datenmengen zu tun, die erst mal ungeordnet sind. Die Aufgabe von Sortierverfahren ist es, diese Daten nach einem bestimmten Kriterium zu ordnen. Im Folgenden wollen wir ein Array mit zufälligen natürlichen Zahlen ordnen. Wir benutzen für die Erstellung das \"random\" Modul von numpy. Was bedeuten die Parameter hier:"
   ]
  },
  {
   "cell_type": "code",
   "execution_count": 191,
   "metadata": {
    "scrolled": true
   },
   "outputs": [],
   "source": [
    "import numpy as np\n",
    "Zahlen = np.random.randint(20, size=30)"
   ]
  },
  {
   "cell_type": "code",
   "execution_count": 192,
   "metadata": {},
   "outputs": [
    {
     "name": "stdout",
     "output_type": "stream",
     "text": [
      "[11 11  6 15 10 11 13 10  6  5  7  5 16  1  0 16 13  6  2  6  3  3 18  5\n",
      " 16 10  3  4 18 13]\n"
     ]
    }
   ],
   "source": [
    "print(Zahlen)"
   ]
  },
  {
   "cell_type": "markdown",
   "metadata": {},
   "source": [
    "Eine sehr nützliche Funktion in numpy ist .shape.\n",
    "Was tut diese Funktion?"
   ]
  },
  {
   "cell_type": "code",
   "execution_count": 193,
   "metadata": {
    "scrolled": false
   },
   "outputs": [
    {
     "data": {
      "text/plain": [
       "(30,)"
      ]
     },
     "execution_count": 193,
     "metadata": {},
     "output_type": "execute_result"
    }
   ],
   "source": [
    "Zahlen.shape"
   ]
  },
  {
   "cell_type": "markdown",
   "metadata": {},
   "source": [
    "Implementieren Sie eine Funktion, die zurückgibt ob das Array sortiert ist oder nicht."
   ]
  },
  {
   "cell_type": "code",
   "execution_count": 194,
   "metadata": {},
   "outputs": [],
   "source": [
    "def sortcheck(inp):\n",
    "    flag = 0\n",
    "    i = 1\n",
    "    while i < len(inp): \n",
    "        if(inp[i] < inp[i - 1]): \n",
    "            flag = 1\n",
    "        i += 1\n",
    "    # printing result \n",
    "    if (not flag) : \n",
    "        return True\n",
    "    else : \n",
    "        return False \n"
   ]
  },
  {
   "cell_type": "markdown",
   "metadata": {},
   "source": [
    "Implementieren Sie jetzt zwei Sortieralgorithmen:\n",
    "1. Bubblesort\n",
    "- Insertsort\n",
    "\n",
    "Die Wikipedia Artikel der beiden Verfahren eignen sich gut um die Funktionsweise der Algorithmen zu verstehen. Wenden Sie die Verfahren dann auf die Daten an."
   ]
  },
  {
   "cell_type": "code",
   "execution_count": 195,
   "metadata": {},
   "outputs": [
    {
     "name": "stdout",
     "output_type": "stream",
     "text": [
      "False\n",
      "[11 11  6 15 10 11 13 10  6  5  7  5 16  1  0 16 13  6  2  6  3  3 18  5\n",
      " 16 10  3  4 18 13]\n",
      "[ 0  1  2  3  3  3  4  5  5  5  6  6  6  6  7 10 10 10 11 11 11 13 13 13\n",
      " 15 16 16 16 18 18]\n",
      "True\n"
     ]
    }
   ],
   "source": [
    "def bublesort(inp):\n",
    "    for i in range(len(inp)):\n",
    "        for x in range(len(inp)-1):\n",
    "            if inp[x] > inp[x+1]:\n",
    "                buff = inp[x]\n",
    "                inp[x] = inp[x+1]\n",
    "                inp[x+1] = buff\n",
    "    return inp    \n",
    "\n",
    "def insertsort(inp):\n",
    "    for cnt in range(len(inp)-1):\n",
    "        cnt1 = cnt + 1\n",
    "        temp = inp[cnt1]\n",
    "        while cnt1 > 0 and temp < inp[cnt1-1]:\n",
    "            inp[cnt1] = inp[cnt1-1]\n",
    "            cnt1 = cnt1 - 1\n",
    "            inp[cnt1] = temp\n",
    "    return inp\n",
    "    \n",
    "    \n",
    "    \n",
    "print(sortcheck(Zahlen))\n",
    "print(Zahlen)\n",
    "Zahlen_Neu = insertsort(Zahlen)\n",
    "print(Zahlen_Neu)\n",
    "print(sortcheck(Zahlen_Neu))"
   ]
  },
  {
   "cell_type": "markdown",
   "metadata": {},
   "source": [
    "Sortierverfahren werden vor allem nach Ihrer Leistungsfähigkeit beurteilt. Dazu können wir die Zeit messen, die der Computer braucht um die Daten zu sortieren. Dazu laden Sie das Modul time:"
   ]
  },
  {
   "cell_type": "code",
   "execution_count": 196,
   "metadata": {},
   "outputs": [],
   "source": [
    "import time"
   ]
  },
  {
   "cell_type": "markdown",
   "metadata": {},
   "source": [
    "Wir können uns die aktuelle Zeit durch time.time() angeben lassen. Allerdings gibt uns dieser Befehl die Systemzeit in Sekunden seit dem 1. Januar 1970 (für die meisten Systeme)."
   ]
  },
  {
   "cell_type": "code",
   "execution_count": 197,
   "metadata": {},
   "outputs": [
    {
     "name": "stdout",
     "output_type": "stream",
     "text": [
      "Die aktuelle Zeit in Sekunden seit dem 1. Januar 1970: 1587281453.538508\n"
     ]
    }
   ],
   "source": [
    "Zeit = time.time()\n",
    "print(\"Die aktuelle Zeit in Sekunden seit dem 1. Januar 1970:\", Zeit)"
   ]
  },
  {
   "cell_type": "markdown",
   "metadata": {},
   "source": [
    "Rechnen Sie die Systemzeit in die Einheit Jahren um, um zu überprüfen ob der 1. Januar 1970 als Referenzzeit passt."
   ]
  },
  {
   "cell_type": "code",
   "execution_count": 198,
   "metadata": {},
   "outputs": [
    {
     "name": "stdout",
     "output_type": "stream",
     "text": [
      "50.29791408530775\n"
     ]
    }
   ],
   "source": [
    "Days = 365.25\n",
    "Hours = 24\n",
    "Minuts = 60\n",
    "Seconds = 60\n",
    "Years= Zeit /(Days*Hours*Minuts*Seconds)\n",
    "print(Years)\n",
    "#Ist Plausiebel, Das datum liegt über 50 jahre zurück"
   ]
  },
  {
   "cell_type": "markdown",
   "metadata": {},
   "source": [
    "Die Laufzeit für die Sortierprogramme können wir bestimmen, indem wir die Zeit vor und nach der Berechnung messen und die Differenz ausrechnen. Bestimmen Sie die Laufzeit für beide Algorithmen."
   ]
  },
  {
   "cell_type": "code",
   "execution_count": 199,
   "metadata": {},
   "outputs": [
    {
     "name": "stdout",
     "output_type": "stream",
     "text": [
      "9.012222290039062e-05\n",
      "0.0004150867462158203\n"
     ]
    }
   ],
   "source": [
    "timeStart = time.time()\n",
    "insertsort(Zahlen)\n",
    "timeStop = time.time()\n",
    "timeNeded = timeStop-timeStart\n",
    "print(timeNeded)\n",
    "\n",
    "timeStart = time.time()\n",
    "bublesort(Zahlen)\n",
    "timeStop = time.time()\n",
    "timeNeded = timeStop-timeStart\n",
    "print(timeNeded)"
   ]
  },
  {
   "cell_type": "markdown",
   "metadata": {},
   "source": [
    "Die Algorithmen sollten sehr schnell sein, da die Datenmenge bisher recht klein ist. Bestimmen Sie jetzt die Laufzeit beider Algorithmen für verschieden große Datenmengen (der size parameter in der random Funktion) und stellen Sie Ihre Ergebnisse graphisch dar (scatter Funktion von matplotlib, nicht vergessen matplotlib erst importieren): Auf der x-Achse soll die Datengröße aufgetragen sein, auf der y-Achse die Laufzeit."
   ]
  },
  {
   "cell_type": "code",
   "execution_count": 200,
   "metadata": {},
   "outputs": [
    {
     "data": {
      "image/png": "[encoded data removed]",
      "text/plain": [
       "<Figure size 432x288 with 1 Axes>"
      ]
     },
     "metadata": {
      "needs_background": "light"
     },
     "output_type": "display_data"
    }
   ],
   "source": [
    "import matplotlib.pyplot as plt\n",
    "timeInsert = []\n",
    "timeBuble = []\n",
    "n = []\n",
    "for x in range(0,1000,10):\n",
    "    timeStart = time.time()\n",
    "    insertsort(Zahlen)\n",
    "    timeStop = time.time()\n",
    "    timeNeded = timeStop-timeStart\n",
    "    timeInsert.append(timeNeded)\n",
    "\n",
    "    timeStart = time.time()\n",
    "    bublesort(Zahlen)\n",
    "    timeStop = time.time()\n",
    "    timeNeded = timeStop-timeStart\n",
    "    timeBuble.append(timeNeded)\n",
    "    n.append(x)\n",
    "    \n",
    "    \n",
    "    \n",
    "plt.scatter(n, timeInsert)\n",
    "plt.scatter(n, timeBuble)\n",
    "plt.xlabel(\"Array Size\")\n",
    "plt.ylabel(\"Sort Time\")\n",
    "plt.grid(True)\n",
    "plt.ylim(-0.0001, 0.0006)\n",
    "plt.show()"
   ]
  },
  {
   "cell_type": "markdown",
   "metadata": {},
   "source": [
    "Wieso erhalten Sie verschiedene Ergebnisse für die Laufzeit eines Algorithmus, wenn Sie zwei Datensätze mit der gleichen Länge aber unterschiedlichen Werten untersuchen?"
   ]
  },
  {
   "cell_type": "code",
   "execution_count": null,
   "metadata": {},
   "outputs": [],
   "source": []
  },
  {
   "cell_type": "markdown",
   "metadata": {},
   "source": [
    "Zusatzaufgabe: Implementieren Sie den Quicksort Algorithmus und vergleichen Sie die Laufzeit mit den anderen beiden Algorithmen."
   ]
  },
  {
   "cell_type": "markdown",
   "metadata": {},
   "source": [
    "## Aufgabe (b)\n",
    "Das numpy Paket ist sehr nützlich bei der Analyse von Datenmengen. Wir werden hier ein paar wichtige Funktionen besprechen, die Sie auch in den anderen Aufgaben gerne benutzen können.\n",
    "\n",
    "Sie können Arrays (also im Grunde Tabellen) zunächst erstellen bevor Sie sie mit Werten füllen. Dazu müssen Sie aber angeben wie groß das Array sein soll (also seine shape). \n",
    "\n",
    "Erstellen Sie verschiedene Arrays mit den Befehlen np.zeros((2, 3)), np.ones((4, 4)), np.random.rand(4, 2)."
   ]
  },
  {
   "cell_type": "code",
   "execution_count": 201,
   "metadata": {},
   "outputs": [
    {
     "name": "stdout",
     "output_type": "stream",
     "text": [
      "[[0.45344544 0.07844992]\n",
      " [0.78511797 0.87986861]\n",
      " [0.52949872 0.69056902]\n",
      " [0.70672396 0.25583269]]\n"
     ]
    }
   ],
   "source": [
    "nullen = np.zeros((2, 3))\n",
    "einsen = np.ones((4, 4))\n",
    "zufall = np.random.rand(4, 2)\n",
    "print(zufall)"
   ]
  },
  {
   "cell_type": "markdown",
   "metadata": {},
   "source": [
    "Was tun diese Funktionen?"
   ]
  },
  {
   "cell_type": "code",
   "execution_count": 202,
   "metadata": {},
   "outputs": [],
   "source": [
    "#np.zeros((2, 3)) gibt ein Array in den übergebenen Dimensonen gefüllt mit 0en zurück\n",
    "#np.ones((2, 3)) gibt ein Array in den übergebenen Dimensonen gefüllt mit 1en zurück\n",
    "#np.random.rand((2, 3)) gibt ein Array in den übergebenen Dimensonen gefüllt mit zufälligen zahlen zurück"
   ]
  },
  {
   "cell_type": "markdown",
   "metadata": {},
   "source": [
    "Wenden Sie die .shape, len() und type() auf die Arrays an. Was tun diese Funktionen?"
   ]
  },
  {
   "cell_type": "code",
   "execution_count": 203,
   "metadata": {},
   "outputs": [
    {
     "name": "stdout",
     "output_type": "stream",
     "text": [
      "(2, 3)\n",
      "2\n",
      "<class 'numpy.ndarray'>\n"
     ]
    }
   ],
   "source": [
    "print(np.shape(nullen)) #Gibt die dimension des Arrays zurück\n",
    "print(len(nullen))\n",
    "print(type(nullen))"
   ]
  },
  {
   "cell_type": "markdown",
   "metadata": {},
   "source": [
    "Sie können sich Teile der Numpy Arrays ausgeben lassen über Test_Array[a:b:c]. Dabei sind 'a' und 'b' wie bei Listen der Anfang und Ende des Bereichs, und c die Schrittweite. Testen Sie dies an den vorher erstellten Arrays aus. Die Indizes müssen natürlich für jede Dimension des Arrays einzeln angegeben werden."
   ]
  },
  {
   "cell_type": "code",
   "execution_count": 204,
   "metadata": {},
   "outputs": [
    {
     "data": {
      "text/plain": [
       "array([[0.29439049, 0.39538923, 0.86524163, 0.44539587, 0.99869825,\n",
       "        0.62073668, 0.69582856, 0.8770957 ],\n",
       "       [0.12896839, 0.02531748, 0.74810142, 0.75768422, 0.31941918,\n",
       "        0.61122183, 0.22989515, 0.4517678 ],\n",
       "       [0.99878248, 0.62446245, 0.46976094, 0.66205012, 0.05635256,\n",
       "        0.1699793 , 0.87897608, 0.0241786 ],\n",
       "       [0.51921162, 0.11029383, 0.34720144, 0.08883919, 0.9108972 ,\n",
       "        0.96819056, 0.40073606, 0.58850894]])"
      ]
     },
     "execution_count": 204,
     "metadata": {},
     "output_type": "execute_result"
    }
   ],
   "source": [
    "zufall = np.random.rand(16, 8)\n",
    "zufall[0:16:4][:]"
   ]
  },
  {
   "cell_type": "markdown",
   "metadata": {},
   "source": [
    "\n",
    "Gegeben sei das folgende Array:"
   ]
  },
  {
   "cell_type": "code",
   "execution_count": 205,
   "metadata": {
    "scrolled": true
   },
   "outputs": [],
   "source": [
    "Random_Array = np.random.rand(10, 5)"
   ]
  },
  {
   "cell_type": "markdown",
   "metadata": {},
   "source": [
    "Welchen Teil des Arrays wird durch den folgenden Ausdruck ausgegeben:"
   ]
  },
  {
   "cell_type": "code",
   "execution_count": 206,
   "metadata": {},
   "outputs": [
    {
     "data": {
      "text/plain": [
       "array([[0.92838731, 0.95024562, 0.23791644],\n",
       "       [0.69702646, 0.30670252, 0.24330146],\n",
       "       [0.67050138, 0.11395882, 0.72081297],\n",
       "       [0.41539765, 0.49129547, 0.85340366],\n",
       "       [0.04852384, 0.52962351, 0.32467655]])"
      ]
     },
     "execution_count": 206,
     "metadata": {},
     "output_type": "execute_result"
    }
   ],
   "source": [
    "Random_Array[:5,::2]"
   ]
  },
  {
   "cell_type": "code",
   "execution_count": 207,
   "metadata": {},
   "outputs": [],
   "source": [
    "# : Gibt alle Elemente mit & bis zum angegebenen indizi aus\n",
    "# :: Gibt alle Elemente mit & bis zum angegebenen  indizi +1 aus"
   ]
  },
  {
   "cell_type": "markdown",
   "metadata": {},
   "source": [
    "Erstellen Sie zwei Arrays a und b (gefüllt mit Nullen), mit der shape (2, 2). Setzen Sie dann beliebige Werte an die Stellen der Nullen. Was tut der Multiplikations-Operator a*b?"
   ]
  },
  {
   "cell_type": "code",
   "execution_count": 208,
   "metadata": {},
   "outputs": [
    {
     "name": "stdout",
     "output_type": "stream",
     "text": [
      "[[0. 0.]\n",
      " [0. 0.]]\n",
      "[[0. 0.]\n",
      " [0. 0.]]\n",
      "[[0. 0.]\n",
      " [0. 0.]]\n"
     ]
    }
   ],
   "source": [
    "a = np.zeros((2, 2))\n",
    "b = np.zeros((2, 2))\n",
    "c = a*b\n",
    "print(a)\n",
    "print(b)\n",
    "print(c)"
   ]
  },
  {
   "cell_type": "markdown",
   "metadata": {},
   "source": [
    "Was tut dagegen die Funktion np.dot(a, b)?"
   ]
  },
  {
   "cell_type": "code",
   "execution_count": 209,
   "metadata": {},
   "outputs": [
    {
     "data": {
      "text/plain": [
       "array([[0., 0.],\n",
       "       [0., 0.]])"
      ]
     },
     "execution_count": 209,
     "metadata": {},
     "output_type": "execute_result"
    }
   ],
   "source": [
    " np.dot(a, b)\n"
   ]
  },
  {
   "cell_type": "markdown",
   "metadata": {},
   "source": [
    "Erstellen Sie ein Array mit Zufallsdaten der Größe (5,5). Was tut np.diag(Array)?"
   ]
  },
  {
   "cell_type": "code",
   "execution_count": 210,
   "metadata": {},
   "outputs": [
    {
     "name": "stdout",
     "output_type": "stream",
     "text": [
      "[[0.52858753 0.21426189 0.76935249 0.36197028 0.44307112]\n",
      " [0.71751553 0.58604356 0.4033527  0.35005603 0.14150163]\n",
      " [0.61439938 0.77781095 0.44157294 0.077505   0.37681239]\n",
      " [0.96662159 0.49759557 0.18640599 0.77517883 0.17430326]\n",
      " [0.68305011 0.79712726 0.67996627 0.0443945  0.26439562]]\n"
     ]
    },
    {
     "data": {
      "text/plain": [
       "array([0.52858753, 0.58604356, 0.44157294, 0.77517883, 0.26439562])"
      ]
     },
     "execution_count": 210,
     "metadata": {},
     "output_type": "execute_result"
    }
   ],
   "source": [
    "Array = np.random.rand(5,5)\n",
    "print(Array)\n",
    "np.diag(Array) # Gibt die diagnoale einer nxn matrix aus (linksoben -> rechtsunten)"
   ]
  },
  {
   "cell_type": "markdown",
   "metadata": {},
   "source": [
    "Oft müssen Funktionen wie np.mean nur auf bestimmte Bereiche eines Arrays angewendet werden, z.B. nur entlang einer Achse des Arrays. Nehmen Sie z.B. an, die Anzahl der neu an Corona Infizierten wurde über 30 Tage in 5 verschiedenen Landkreisen ermittelt. Alle Daten befinden sich im folgenden Array:"
   ]
  },
  {
   "cell_type": "code",
   "execution_count": 211,
   "metadata": {},
   "outputs": [
    {
     "name": "stdout",
     "output_type": "stream",
     "text": [
      "Das Array hat die shape: (30, 5)\n"
     ]
    }
   ],
   "source": [
    "Corona_Infizierte = np.random.randint(300, size=(30, 5))\n",
    "print(\"Das Array hat die shape:\", Corona_Infizierte.shape)"
   ]
  },
  {
   "cell_type": "markdown",
   "metadata": {},
   "source": [
    "Wir wollen jetzt wissen, wie sich die Anzahl der neu Infizierten, gemittelt über alle Landkreise über die Zeit verhält. Die Mittelung muss also nur über eine bestimmte Achse erfolgen. Finden Sie heraus welche der beiden Funktionen hier die Richtige ist:"
   ]
  },
  {
   "cell_type": "code",
   "execution_count": 212,
   "metadata": {},
   "outputs": [],
   "source": [
    "Mean_1 = np.mean(Corona_Infizierte, axis=0)\n",
    "Mean_2 = np.mean(Corona_Infizierte, axis=1)"
   ]
  },
  {
   "cell_type": "markdown",
   "metadata": {},
   "source": [
    "## Aufgabe (c)\n",
    "Suchen Sie sich die absolute Anzahl der in Deutschland an Corona gestorbenen Menschen über die letzten 10 Tage (nicht die pro Tag Gestorbenen, sondern die absolute Zahl der bisher Gestorbenen Patienten). Stellen Sie die Entwicklung graphisch mit dem scatter Befehl dar."
   ]
  },
  {
   "cell_type": "code",
   "execution_count": 213,
   "metadata": {},
   "outputs": [
    {
     "data": {
      "image/png": "[encoded data removed]",
      "text/plain": [
       "<Figure size 432x288 with 1 Axes>"
      ]
     },
     "metadata": {
      "needs_background": "light"
     },
     "output_type": "display_data"
    }
   ],
   "source": [
    "coronadeath = np.array([[7,8,9,10,11,12,13,14,15,16,17], [1607,1861,2107,2373,2544,2673,2799,2969,3254,3569,3868]])\n",
    "plt.scatter(coronadeath[0][:], coronadeath[1][:])\n",
    "plt.ylabel(\"Comulatedt Death\")\n",
    "plt.xlabel(\"Days(april.7-april.17)\")\n",
    "plt.grid(True)\n",
    "plt.show()"
   ]
  },
  {
   "cell_type": "markdown",
   "metadata": {},
   "source": [
    "Nehmen wir an, diese Anzahl wächst linear an. Dann kann sie beschrieben werden durch eine lineare Funktion der Form $f(x) = m*x + b$.\n",
    "Schätzen Sie die Parameter $m$ und $b$ per Augenmaß aus dem Plot den Sie erstellt haben oder durch probieren und zeichnen Sie die Funktion in die Abbildung gemeinsam mit den Punkten ein. Die Funktion muss nur ungefähr passen, nicht perfekt!"
   ]
  },
  {
   "cell_type": "code",
   "execution_count": 214,
   "metadata": {},
   "outputs": [
    {
     "name": "stdout",
     "output_type": "stream",
     "text": [
      "[209.3181818181818, 181.27272727272702]\n"
     ]
    },
    {
     "data": {
      "image/png": "[encoded data removed]",
      "text/plain": [
       "<Figure size 432x288 with 1 Axes>"
      ]
     },
     "metadata": {
      "needs_background": "light"
     },
     "output_type": "display_data"
    }
   ],
   "source": [
    "def mean(innput):\n",
    "    buff = 0\n",
    "    for cnt in range(len(innput)):\n",
    "        buff += innput[cnt]\n",
    "    return buff/len(innput)\n",
    "\n",
    "def linregresion(x,y):\n",
    "    buff1 = 0.\n",
    "    buff2 = 0.\n",
    "    output = [0. , 0.]\n",
    "    xmean = mean(x)\n",
    "    ymean = mean(y)\n",
    "    \n",
    "    for cnt1 in range(len(x)):\n",
    "        buff1 += x[cnt1] * y[cnt1]\n",
    "        buff2 += x[cnt1] * x[cnt1]\n",
    "        \n",
    "    buff1 -= len(x) * xmean * ymean\n",
    "    buff2 -= len(x) * xmean ** 2\n",
    "    output[0] = buff1/buff2\n",
    "    output[1] = ymean-output[0]*xmean\n",
    "    return output\n",
    "\n",
    "def linfunk(a,b,start,end):\n",
    "    buff = [[],[]]\n",
    "    for cnt in range(start, end+1):\n",
    "        buff[0].append(cnt)\n",
    "        buff[1].append(cnt*a+b)\n",
    "\n",
    "linarisation = linregresion(coronadeath[0], coronadeath[1])\n",
    "print(linarisation)\n",
    "lindeeath = linfunk(linarisation[0],linarisation[1],7,17)\n",
    "plt.scatter(coronadeath[0], coronadeath[1])\n",
    "plt.plot(lineardeath[0],lineardeath[1])\n",
    "plt.ylabel(\"Comulatedt Death\")\n",
    "plt.xlabel(\"Days(april.7-april.17)\")\n",
    "plt.grid(True)\n",
    "plt.show()"
   ]
  },
  {
   "cell_type": "code",
   "execution_count": null,
   "metadata": {},
   "outputs": [],
   "source": []
  },
  {
   "cell_type": "markdown",
   "metadata": {},
   "source": [
    "Ein Maß dafür wie gut die lineare Funktion die Daten erklärt ist die \"Residuenquadratsumme\". Sie ist definiert als die quadratische Abweichung der Datenpunkte von dem Wert der linearen Funktion (summiert über alle $n$ Datenpunkte). Sei $(x_i, y_i)$ ein Datenpunkt (x_i ist der Tag, y_i die Zahl der Corona Toten am Tag x_i). Dann ist die Residuenquadratsumme gegeben durch:\n",
    "\n",
    "$SQR = \\sum\\limits_{i=1}^{n} (y_i-f(x_i))^2$\n",
    "\n",
    "Berechnen Sie SQR für die Datenpunkte und Ihre ermittelte Funktion."
   ]
  },
  {
   "cell_type": "code",
   "execution_count": 215,
   "metadata": {},
   "outputs": [
    {
     "data": {
      "text/plain": [
       "70599.77272727274"
      ]
     },
     "execution_count": 215,
     "metadata": {},
     "output_type": "execute_result"
    }
   ],
   "source": [
    "def sqr(datenpunkt, näherung):\n",
    "    buff = 0.\n",
    "    for cnt in range(len(datenpunkt)):\n",
    "        buff += (datenpunkt[cnt]-näherung[cnt])**2\n",
    "    return buff\n",
    "\n",
    "sqr(coronadeath[1],lineardeath[1])\n",
    "        "
   ]
  },
  {
   "cell_type": "markdown",
   "metadata": {},
   "source": [
    "Variieren Sie Ihre ermittelten Paremeter $m$ und $b$ jeweils 10% nach oben und unten (das führt zu 9 verschiedenen Kombinationen von $m$ und $b$). Berechnen Sie für alle Kombinationen wieder die SQR."
   ]
  },
  {
   "cell_type": "code",
   "execution_count": 216,
   "metadata": {},
   "outputs": [
    {
     "name": "stdout",
     "output_type": "stream",
     "text": [
      "M0.9und B*0.9 => SQR = 70599.77272727274\n",
      "M0.9und B*0.9 => SQR = 70599.77272727274\n",
      "M0.9und B*0.9 => SQR = 70599.77272727274\n",
      "M1.1und B*1.1 => SQR = 70599.77272727274\n",
      "M1.1und B*1.1 => SQR = 70599.77272727274\n",
      "M1.1und B*1.1 => SQR = 70599.77272727274\n",
      "M1.0und B*1.0 => SQR = 70599.77272727274\n",
      "M1.0und B*1.0 => SQR = 70599.77272727274\n",
      "M1.0und B*1.0 => SQR = 70599.77272727274\n"
     ]
    }
   ],
   "source": [
    "def weightchanger(argument):\n",
    "        if argument == 0: return 0.9\n",
    "        elif argument == 2: return 1.0\n",
    "        elif argument == 1: return 1.1\n",
    "    \n",
    "for cnt1 in range(3):\n",
    "    for cnt2 in range(3):\n",
    "        Mweight = weightchanger(cnt1) \n",
    "        Bweight = weightchanger(cnt2) \n",
    "        lindeeath = linfunk(linarisation[0]* Mweight,linarisation[1]*Bweight,7,17)\n",
    "        print(\"M\" + str(Mweight) + \"und B*\" + str(Mweight) + \" => SQR = \"+str(sqr(coronadeath[1],lineardeath[1])))\n",
    "       \n"
   ]
  },
  {
   "cell_type": "markdown",
   "metadata": {},
   "source": [
    "Was könnten Gründe dafür sein, dass die lineare Funktion die Datenpunkte nicht perfekt abbilden. Es gibt zahlreiche Gründe dafür, nennen Sie zwei."
   ]
  },
  {
   "cell_type": "code",
   "execution_count": 217,
   "metadata": {},
   "outputs": [],
   "source": [
    "#Die zahl der gestorbenen partienten läst sich besser als logistische kurve ausdrücken da sie direkt von der ANzahl infizierten abhängig ist"
   ]
  },
  {
   "cell_type": "markdown",
   "metadata": {},
   "source": [
    "Was ist die Bedeutung der Parameter $m$ und $b$ in Bezug auf die Entwicklung der gestorbenen Patienten?"
   ]
  },
  {
   "cell_type": "code",
   "execution_count": 218,
   "metadata": {},
   "outputs": [],
   "source": [
    "#m anfangs welle (Partienten die zunächst unbemerkt an der Spezifischen erkrankung versterben und anschliesend erst dazu gezählzt werden)\n",
    "#b täglliches wachstum an toten."
   ]
  },
  {
   "cell_type": "markdown",
   "metadata": {},
   "source": [
    "Benutzen Sie Ihre Funktion mit den anfänglichen Parametern um die Anzahl der Toten am nächsten Tag vorherzusagen."
   ]
  },
  {
   "cell_type": "code",
   "execution_count": 219,
   "metadata": {},
   "outputs": [
    {
     "name": "stdout",
     "output_type": "stream",
     "text": [
      "Deathcount with linfunc :3948.9999999999995\n",
      "Deathcount realdata : 4110\n",
      "Error in Percentig:4.076981514307421\n"
     ]
    }
   ],
   "source": [
    "deathonapril18 = linarisation[0]*18 + linarisation[1]\n",
    "print(\"Deathcount with linfunc :\" + str(deathonapril18))\n",
    "print(\"Deathcount realdata : 4110\")\n",
    "print(\"Error in Percentig:\" + str(((4110/deathonapril18)-1)*100))"
   ]
  },
  {
   "cell_type": "markdown",
   "metadata": {},
   "source": [
    "Wir haben hier einen Bereich des ML bearbeitet, den wir schon in der 1. Vorlesung kennengelernt haben. In welche Kategorie fällt die Analyse (in der Abbildung auf Seite 15 des Skripts der 1. Vorlesung)."
   ]
  },
  {
   "cell_type": "code",
   "execution_count": 220,
   "metadata": {},
   "outputs": [],
   "source": [
    "#REgresions lernen"
   ]
  },
  {
   "cell_type": "markdown",
   "metadata": {},
   "source": [
    "## Aufgabe (d)\n",
    "Wir untersuchen Blutproben von Corona Infizierten und messen dabei zwei Blutwerte 'Mess_A' und 'Mess_B'. Anscheinend kann man anhand der beiden Werte bestimmen ob die Person infiziert ist oder nicht. Der Zusammenhang ist aber nicht trivial. Von einem Test der schon funktioniert (der aber sehr lange dauert, daher wollen wir einen neuen schnelleren Test entwickeln) wissen wir für die bisherigen Daten ob die Person Infiziert ist oder nicht.\n",
    "\n",
    "Laden Sie die Blutwerte von 500 Patienten ein per Blutwerte = np.load(\"Blutwerte.npy\"). Laden Sie auch die Angabe ein, ob die Person infiziert ist oder nicht Infiziert = np.load(\"Infiziert.npy\"). Machen Sie sich klar wie die Daten aufgebaut sind (über shape). Das erste Array beinhaltet die beiden Blutwerte für jeden Patienten (jeweils Werte zwischen 0 und 1). Das zweite Array beinhaltet 'Einsen' (infiziert) und 'Nullen' (gesund)."
   ]
  },
  {
   "cell_type": "code",
   "execution_count": 221,
   "metadata": {},
   "outputs": [
    {
     "name": "stdout",
     "output_type": "stream",
     "text": [
      "[[2.49031242e-01 4.89686806e-01]\n",
      " [9.61096254e-02 6.94491864e-01]\n",
      " [1.01366243e-01 7.52949371e-01]\n",
      " [9.45863537e-01 4.14299900e-01]\n",
      " [4.26630852e-01 6.46589224e-01]\n",
      " [4.59419331e-01 2.32524468e-01]\n",
      " [1.67462618e-01 8.37607830e-01]\n",
      " [8.29810575e-01 5.00877892e-01]\n",
      " [7.10250070e-02 4.45499896e-01]\n",
      " [7.49155129e-02 6.08833283e-01]\n",
      " [2.23514774e-01 5.59967762e-01]\n",
      " [5.09568923e-01 5.65840066e-01]\n",
      " [9.67395664e-01 2.57034828e-01]\n",
      " [7.65091948e-01 4.32400580e-01]\n",
      " [7.85516609e-01 5.53591346e-01]\n",
      " [6.12795056e-02 9.72844733e-01]\n",
      " [7.24796402e-01 5.90037773e-01]\n",
      " [1.24480848e-01 5.96894536e-01]\n",
      " [5.65996260e-01 9.25328118e-01]\n",
      " [4.69179303e-01 1.46598053e-01]\n",
      " [4.46125336e-01 5.89150475e-01]\n",
      " [4.11048484e-01 4.05865047e-02]\n",
      " [3.21728072e-02 5.63465711e-01]\n",
      " [1.43603757e-01 2.51801439e-01]\n",
      " [8.09760833e-01 2.74473005e-01]\n",
      " [6.38118750e-01 5.51241051e-01]\n",
      " [5.84294894e-01 9.28896906e-01]\n",
      " [2.50196846e-01 3.32311363e-01]\n",
      " [1.71257137e-01 8.48937441e-01]\n",
      " [2.09815049e-01 1.83324375e-01]\n",
      " [5.14309345e-01 4.56807216e-01]\n",
      " [3.21625720e-01 9.59369750e-01]\n",
      " [9.97937283e-01 9.43500321e-02]\n",
      " [1.13454666e-01 7.29314546e-01]\n",
      " [6.99611911e-01 9.56166371e-01]\n",
      " [9.16127324e-01 6.35057652e-01]\n",
      " [4.04768661e-01 5.92780021e-01]\n",
      " [4.60242114e-01 9.86526460e-01]\n",
      " [9.01874420e-01 7.07705123e-01]\n",
      " [8.45458379e-01 6.34807198e-01]\n",
      " [6.06909290e-01 4.79109867e-01]\n",
      " [8.68119080e-01 4.03147405e-01]\n",
      " [8.96671210e-01 3.41643893e-02]\n",
      " [6.19322101e-01 7.33080388e-01]\n",
      " [1.33604911e-01 5.26083222e-01]\n",
      " [8.43797808e-02 5.47502871e-01]\n",
      " [5.82985610e-02 3.32781566e-01]\n",
      " [1.49715975e-01 1.17433713e-01]\n",
      " [9.80840018e-01 6.51343465e-01]\n",
      " [7.15796882e-02 1.79225700e-01]\n",
      " [8.75776444e-01 2.67007242e-01]\n",
      " [2.08589118e-01 8.23428207e-01]\n",
      " [5.75891647e-01 2.97941107e-01]\n",
      " [5.45573448e-01 4.30930993e-02]\n",
      " [9.26047021e-01 7.48567762e-01]\n",
      " [5.86321193e-01 3.21789486e-01]\n",
      " [8.49057744e-01 6.19466045e-01]\n",
      " [6.88731161e-01 3.59408958e-01]\n",
      " [3.96546281e-01 3.66967577e-01]\n",
      " [8.06777336e-01 4.03978568e-01]\n",
      " [5.36835319e-01 5.76548595e-01]\n",
      " [6.07228054e-01 7.86135632e-01]\n",
      " [1.57520854e-01 9.40716041e-02]\n",
      " [3.29769440e-01 9.35148489e-01]\n",
      " [2.40924699e-01 4.04087734e-01]\n",
      " [7.70793725e-01 5.93881881e-01]\n",
      " [1.73400088e-01 1.10088841e-01]\n",
      " [8.26041151e-01 6.31040637e-01]\n",
      " [4.74252905e-01 4.14061696e-01]\n",
      " [4.25090735e-01 8.03665557e-01]\n",
      " [3.20000657e-01 8.42305477e-01]\n",
      " [1.85742317e-01 3.15318112e-01]\n",
      " [5.50822127e-01 9.57145718e-01]\n",
      " [8.81846847e-01 6.13536325e-01]\n",
      " [3.11443461e-01 3.55447976e-01]\n",
      " [6.48354071e-01 4.22169716e-02]\n",
      " [9.82674434e-01 4.76636139e-01]\n",
      " [1.59993140e-01 9.71839506e-01]\n",
      " [2.38411978e-01 4.44261805e-01]\n",
      " [5.69375041e-01 7.68249426e-01]\n",
      " [6.00360583e-01 8.95715033e-01]\n",
      " [1.35764608e-01 5.56252708e-01]\n",
      " [4.11754074e-01 6.04592476e-01]\n",
      " [4.92689319e-01 9.42448227e-01]\n",
      " [6.83077478e-01 9.45770472e-01]\n",
      " [3.64781366e-01 3.56568734e-01]\n",
      " [8.48965051e-01 7.37593064e-01]\n",
      " [1.83762420e-01 5.13765639e-01]\n",
      " [9.45077989e-01 6.93143897e-02]\n",
      " [6.30245509e-01 7.51674995e-01]\n",
      " [5.87413117e-01 4.37650816e-01]\n",
      " [9.07612070e-01 2.59447151e-01]\n",
      " [7.26791128e-01 5.54282892e-01]\n",
      " [3.44237707e-01 4.94925795e-01]\n",
      " [7.26352497e-01 7.10238881e-01]\n",
      " [2.72538472e-01 3.93755618e-01]\n",
      " [2.33079675e-01 5.00354932e-01]\n",
      " [3.96340725e-02 9.03343160e-01]\n",
      " [3.83441621e-02 3.73626936e-01]\n",
      " [5.30196365e-01 1.68401211e-01]\n",
      " [3.98529925e-01 2.05583340e-01]\n",
      " [7.60224069e-01 3.37894908e-01]\n",
      " [8.24403149e-01 9.31302872e-01]\n",
      " [9.15520635e-01 7.82190387e-01]\n",
      " [4.34215741e-01 1.66023665e-01]\n",
      " [8.78389016e-01 7.29070842e-01]\n",
      " [2.19980643e-01 6.03731691e-01]\n",
      " [3.14433794e-01 9.15723339e-01]\n",
      " [8.31413983e-01 5.12594730e-02]\n",
      " [3.10641560e-01 6.93769610e-01]\n",
      " [7.16440585e-02 1.17447181e-01]\n",
      " [9.46478867e-01 5.12077235e-01]\n",
      " [3.76450702e-01 2.48183085e-01]\n",
      " [3.16724587e-01 9.08060864e-01]\n",
      " [2.44057562e-01 7.34255884e-01]\n",
      " [6.91539018e-01 6.68449236e-01]\n",
      " [1.92056138e-01 1.54551648e-01]\n",
      " [6.78351920e-03 1.72299043e-01]\n",
      " [8.76169745e-01 1.34082130e-01]\n",
      " [8.57485210e-01 8.55846865e-01]\n",
      " [5.43781368e-01 8.71536999e-01]\n",
      " [3.92282657e-02 6.84631015e-01]\n",
      " [5.54882628e-01 4.34762010e-01]\n",
      " [8.18288708e-01 9.46711293e-01]\n",
      " [7.79836141e-01 3.39649095e-01]\n",
      " [9.99854166e-01 4.62109897e-01]\n",
      " [9.31150256e-01 9.92029518e-01]\n",
      " [1.24301594e-01 5.75336532e-01]\n",
      " [5.32001535e-01 2.12303008e-01]\n",
      " [7.59222571e-01 3.31105500e-03]\n",
      " [1.81315907e-01 3.45479595e-02]\n",
      " [2.01676626e-01 1.65100391e-01]\n",
      " [6.82682477e-02 6.97810564e-01]\n",
      " [9.45496899e-01 9.08455507e-01]\n",
      " [5.26364793e-01 5.94852699e-01]\n",
      " [4.89334557e-01 6.58663516e-01]\n",
      " [4.86791951e-01 7.07935986e-01]\n",
      " [2.07297283e-01 6.47260416e-01]\n",
      " [3.17811945e-01 8.56764235e-01]\n",
      " [5.55592485e-01 7.57354657e-02]\n",
      " [5.42060213e-01 6.98761732e-01]\n",
      " [6.98309496e-01 5.13179796e-01]\n",
      " [3.83412489e-01 6.00646767e-01]\n",
      " [5.18119135e-01 8.10644644e-01]\n",
      " [6.52639125e-01 5.75257297e-01]\n",
      " [6.57457516e-01 2.27191178e-01]\n",
      " [9.78994350e-01 9.04505346e-01]\n",
      " [5.00538828e-01 8.04914322e-01]\n",
      " [1.67563581e-01 9.00750169e-01]\n",
      " [5.19667120e-01 2.54896887e-01]\n",
      " [8.51416230e-01 7.89640246e-01]\n",
      " [1.53916793e-01 6.66424455e-01]\n",
      " [9.44141336e-01 1.81512933e-01]\n",
      " [7.09232980e-01 4.41944016e-01]\n",
      " [8.73859089e-03 4.23476509e-01]\n",
      " [3.65881891e-01 6.92013285e-01]\n",
      " [5.06306536e-01 1.52539345e-01]\n",
      " [2.59614348e-02 4.15900624e-01]\n",
      " [7.86412964e-01 9.22359174e-01]\n",
      " [9.89725639e-01 9.05909091e-01]\n",
      " [8.43144451e-01 2.30902356e-01]\n",
      " [4.00233593e-01 8.52374581e-02]\n",
      " [8.45207310e-01 6.87473188e-01]\n",
      " [3.99867472e-01 3.65801657e-01]\n",
      " [4.25794796e-01 7.13634519e-01]\n",
      " [4.76883719e-01 3.29874666e-01]\n",
      " [9.04510506e-01 9.68884415e-01]\n",
      " [4.46566742e-01 4.78384820e-01]\n",
      " [2.33732727e-01 9.60514682e-01]\n",
      " [9.54832894e-01 9.48065147e-01]\n",
      " [4.69798552e-01 6.47660478e-02]\n",
      " [2.18913433e-01 2.38286798e-02]\n",
      " [5.70006088e-01 1.55347204e-01]\n",
      " [5.38284915e-01 9.14912767e-01]\n",
      " [5.58750792e-01 4.10491238e-01]\n",
      " [4.85016738e-01 6.96321241e-02]\n",
      " [1.07156896e-01 6.22751490e-01]\n",
      " [4.16426993e-01 8.06269762e-01]\n",
      " [7.48663042e-01 8.42803967e-01]\n",
      " [1.41513353e-01 5.53169992e-01]\n",
      " [1.46322492e-02 4.82036662e-01]\n",
      " [4.41384707e-01 3.88207530e-01]\n",
      " [8.10254775e-01 1.00020779e-01]\n",
      " [1.86809611e-02 5.03388777e-01]\n",
      " [1.07738948e-02 1.46307110e-01]\n",
      " [2.02550730e-01 8.68909291e-01]\n",
      " [8.59501655e-01 3.28258648e-02]\n",
      " [2.00054623e-02 8.34042969e-01]\n",
      " [3.73726079e-01 1.52358574e-01]\n",
      " [3.09855947e-01 7.09716468e-01]\n",
      " [3.97668795e-01 8.49823547e-01]\n",
      " [6.92697642e-01 3.61262439e-01]\n",
      " [3.96730323e-01 9.46612579e-01]\n",
      " [8.84650907e-01 5.67349710e-02]\n",
      " [1.11347336e-01 3.16406511e-01]\n",
      " [1.52401941e-01 1.66948674e-01]\n",
      " [4.90143585e-01 5.58773574e-01]\n",
      " [8.38700055e-02 3.38052006e-01]\n",
      " [5.35994787e-01 5.82181689e-01]\n",
      " [9.26529066e-01 4.42230669e-01]\n",
      " [5.48384047e-01 4.19844938e-01]\n",
      " [9.15002910e-01 4.61502677e-01]\n",
      " [8.42344122e-01 4.72835844e-01]\n",
      " [3.31036892e-02 7.49554225e-01]\n",
      " [6.38210146e-01 5.68632028e-01]\n",
      " [6.24628188e-01 4.65498513e-01]\n",
      " [4.29757449e-01 5.69168714e-01]\n",
      " [8.69618935e-01 9.74835689e-01]\n",
      " [9.05858396e-01 8.83013793e-01]\n",
      " [3.06560628e-01 4.67664224e-01]\n",
      " [9.12026271e-01 9.42781427e-01]\n",
      " [9.52729880e-01 8.35792606e-01]\n",
      " [3.14423722e-01 3.65941430e-01]\n",
      " [6.80028280e-01 8.00476266e-01]\n",
      " [9.88099746e-01 3.53219338e-01]\n",
      " [8.82888973e-01 5.11879264e-01]\n",
      " [5.95361646e-01 9.10057012e-01]\n",
      " [1.62734451e-02 5.83076182e-01]\n",
      " [2.96996852e-01 1.47385869e-01]\n",
      " [3.87951967e-01 8.50374917e-01]\n",
      " [4.37839158e-01 3.50373428e-01]\n",
      " [3.19373361e-01 6.29049886e-01]\n",
      " [2.12542727e-01 6.43315721e-01]\n",
      " [4.13094201e-01 8.24871195e-01]\n",
      " [8.45548172e-01 5.83821834e-01]\n",
      " [7.51874059e-01 5.61479250e-01]\n",
      " [2.62178107e-01 1.38096333e-02]\n",
      " [2.08659574e-01 3.47553224e-02]\n",
      " [4.15919143e-01 3.38029082e-01]\n",
      " [7.66839887e-01 7.28194296e-01]\n",
      " [5.12015308e-01 3.14612812e-01]\n",
      " [6.10254348e-01 5.49663259e-01]\n",
      " [9.79518038e-01 3.02320988e-01]\n",
      " [5.52555935e-01 5.43163103e-01]\n",
      " [2.07722621e-01 8.54690541e-01]\n",
      " [3.51407719e-01 9.83904773e-01]\n",
      " [5.81403674e-01 7.07906389e-02]\n",
      " [4.52606060e-01 1.53874852e-01]\n",
      " [7.39795809e-01 5.33159900e-01]\n",
      " [1.60912162e-01 9.89851711e-01]\n",
      " [6.30747335e-01 8.45057387e-01]\n",
      " [8.29738394e-01 3.97894898e-01]\n",
      " [9.09456505e-01 2.25859183e-01]\n",
      " [6.68481376e-01 3.40169702e-01]\n",
      " [6.20460826e-01 7.80530703e-01]\n",
      " [3.32339536e-01 9.61352222e-01]\n",
      " [2.15072357e-01 4.79317320e-01]\n",
      " [8.03770266e-01 6.14941982e-01]\n",
      " [7.86311234e-01 7.62223724e-02]\n",
      " [4.05220315e-04 1.39259370e-01]\n",
      " [5.97734202e-01 7.04008822e-01]\n",
      " [5.15446851e-02 8.72260762e-01]\n",
      " [5.90003598e-01 7.47245316e-01]\n",
      " [8.26063511e-01 2.47480748e-02]\n",
      " [6.59708846e-01 7.35918713e-02]\n",
      " [6.34469622e-01 6.14503568e-02]\n",
      " [6.86680418e-01 8.64490460e-01]\n",
      " [7.19532213e-01 4.97644558e-01]\n",
      " [4.32799284e-01 3.66667187e-01]\n",
      " [6.30460775e-01 8.49776918e-01]\n",
      " [5.18809366e-01 4.83145885e-02]\n",
      " [6.29645153e-01 3.50213421e-03]\n",
      " [9.37597133e-01 7.78832571e-01]\n",
      " [1.16838200e-01 1.09292784e-03]\n",
      " [9.90241417e-01 7.64773653e-01]\n",
      " [6.30268116e-02 7.05669767e-01]\n",
      " [6.84849688e-01 6.28342356e-01]\n",
      " [8.55817604e-01 3.52252858e-01]\n",
      " [1.84944035e-01 1.03311414e-01]\n",
      " [6.28787807e-01 2.15326402e-01]\n",
      " [2.75054550e-02 2.58509902e-01]\n",
      " [7.24197148e-01 8.40067915e-01]\n",
      " [8.43602433e-01 7.22690242e-02]\n",
      " [1.53624341e-01 9.28376799e-01]\n",
      " [4.51262106e-01 8.27447477e-01]\n",
      " [8.02161692e-01 7.67848045e-01]\n",
      " [9.67107014e-01 1.90897831e-01]\n",
      " [5.58605362e-01 8.02470969e-01]\n",
      " [9.63805825e-01 9.28859475e-01]\n",
      " [6.42747862e-01 8.02743837e-01]\n",
      " [1.48094726e-01 5.69134400e-01]\n",
      " [2.88526559e-01 6.00745248e-01]\n",
      " [8.95123462e-01 2.08841102e-01]\n",
      " [4.20041227e-01 1.63102919e-01]\n",
      " [5.11620883e-01 4.21789911e-01]\n",
      " [4.55520422e-01 9.55465921e-02]\n",
      " [6.05925782e-01 7.24953312e-01]\n",
      " [6.86818683e-01 3.03203729e-01]\n",
      " [8.40137367e-01 8.14945417e-01]\n",
      " [4.90318887e-01 1.78531849e-01]\n",
      " [6.24920963e-01 8.17243716e-01]\n",
      " [8.14351054e-01 4.19462732e-01]\n",
      " [8.68136188e-01 5.22616927e-01]\n",
      " [8.65511444e-02 4.02982829e-01]\n",
      " [1.25098227e-02 8.49567240e-01]\n",
      " [9.22465537e-02 2.98674571e-01]\n",
      " [8.16918515e-01 1.18836987e-01]\n",
      " [5.58552118e-01 9.76806464e-01]\n",
      " [5.98797098e-01 8.61777616e-01]\n",
      " [5.07630987e-02 8.31056795e-01]\n",
      " [1.75084327e-01 7.40346726e-01]\n",
      " [9.97612286e-01 2.92104496e-01]\n",
      " [8.49993901e-01 2.99300109e-01]\n",
      " [1.65144189e-01 9.22795307e-02]\n",
      " [4.82566120e-01 1.47661064e-01]\n",
      " [7.15188555e-01 9.98582837e-01]\n",
      " [4.93530992e-01 7.17819251e-01]\n",
      " [9.69631273e-01 8.78912876e-01]\n",
      " [5.04675786e-01 4.90798824e-01]\n",
      " [4.73555226e-01 7.55323717e-01]\n",
      " [6.40166154e-01 6.08168524e-02]\n",
      " [8.94580431e-01 2.57617203e-01]\n",
      " [8.77916276e-01 5.58508199e-01]\n",
      " [1.09189301e-01 5.07682160e-01]\n",
      " [1.08439329e-02 4.64787383e-01]\n",
      " [4.90298271e-01 9.67531384e-01]\n",
      " [7.95833793e-01 4.89279586e-02]\n",
      " [1.98803958e-01 8.66230073e-01]\n",
      " [1.05163185e-01 5.97174118e-01]\n",
      " [9.06610905e-01 6.87870253e-01]\n",
      " [3.46560718e-01 8.94236673e-01]\n",
      " [2.62643907e-01 6.63590945e-01]\n",
      " [3.20889824e-01 2.92434906e-01]\n",
      " [1.63210486e-01 9.73786024e-01]\n",
      " [2.09734934e-01 6.52012870e-01]\n",
      " [5.51181403e-01 5.04712724e-02]\n",
      " [8.53593903e-01 1.41631679e-01]\n",
      " [7.87049060e-01 2.33130630e-01]\n",
      " [4.02811418e-01 4.63586533e-01]\n",
      " [8.05070194e-01 4.75797945e-01]\n",
      " [7.25671928e-01 6.84181966e-01]\n",
      " [3.26085791e-01 2.95836452e-01]\n",
      " [6.06472824e-01 2.08599621e-01]\n",
      " [6.54034940e-01 9.17652978e-01]\n",
      " [7.59955693e-01 3.55562789e-01]\n",
      " [6.66354550e-01 2.09188464e-01]\n",
      " [3.66800002e-01 1.79637249e-01]\n",
      " [1.35408810e-01 2.24028313e-01]\n",
      " [7.57955065e-01 9.02075017e-02]\n",
      " [3.08024696e-01 2.83015131e-01]\n",
      " [1.52087948e-01 8.92498602e-01]\n",
      " [5.46292628e-01 8.10820011e-01]\n",
      " [1.67695133e-01 3.01661702e-01]\n",
      " [7.78005909e-01 6.94409256e-01]\n",
      " [6.18966140e-01 2.48829339e-01]\n",
      " [1.28236154e-01 3.00676764e-01]\n",
      " [2.66611583e-01 2.83819811e-01]\n",
      " [1.73676765e-01 2.79132219e-01]\n",
      " [8.58465931e-01 5.75063511e-03]\n",
      " [2.98174982e-01 9.36367779e-01]\n",
      " [4.46476865e-01 9.97276021e-01]\n",
      " [7.84711740e-01 4.88406740e-01]\n",
      " [8.64819715e-01 2.10557476e-01]\n",
      " [4.95871043e-01 1.70717030e-01]\n",
      " [2.84033643e-01 3.83985643e-01]\n",
      " [5.77660823e-01 4.93781567e-01]\n",
      " [3.24778434e-01 2.54731881e-01]\n",
      " [6.53582489e-01 3.11951918e-01]\n",
      " [2.67970238e-01 9.19889963e-01]\n",
      " [6.36999674e-01 5.61669349e-01]\n",
      " [1.15293003e-02 6.62780111e-01]\n",
      " [3.28157282e-01 6.87405033e-01]\n",
      " [9.13842343e-01 5.10360538e-01]\n",
      " [9.43395641e-01 9.83530957e-01]\n",
      " [5.63932049e-01 1.22946354e-01]\n",
      " [9.20516164e-01 4.11358136e-01]\n",
      " [1.73734601e-01 2.58202847e-01]\n",
      " [1.46924222e-01 6.66158384e-01]\n",
      " [7.75327287e-01 7.33088612e-01]\n",
      " [5.78327205e-01 3.52392780e-01]\n",
      " [9.55041232e-01 4.39152619e-01]\n",
      " [7.89485991e-01 5.16552414e-01]\n",
      " [4.47396434e-01 3.82053981e-01]\n",
      " [5.51916361e-01 4.21666411e-01]\n",
      " [5.65555282e-01 9.23012487e-01]\n",
      " [2.66009178e-01 5.25163139e-01]\n",
      " [3.50635201e-01 3.09748609e-01]\n",
      " [8.79961894e-01 6.76709345e-01]\n",
      " [7.31744262e-01 5.84801803e-02]\n",
      " [5.33865134e-01 8.85690944e-01]\n",
      " [8.99600359e-01 7.08387487e-01]\n",
      " [6.50689078e-01 9.22160723e-01]\n",
      " [5.85158473e-01 5.19196737e-01]\n",
      " [7.52879530e-01 1.38834306e-01]\n",
      " [4.96170849e-01 2.19508794e-01]\n",
      " [6.16688802e-01 9.98735990e-01]\n",
      " [4.09943008e-01 1.93982819e-01]\n",
      " [6.26776782e-01 8.97335119e-02]\n",
      " [1.46977839e-01 6.78268414e-01]\n",
      " [1.72639357e-01 3.27843812e-01]\n",
      " [4.78274015e-01 1.02399810e-02]\n",
      " [2.42885493e-01 3.72402923e-02]\n",
      " [2.95706829e-01 7.80164111e-01]\n",
      " [3.27996037e-02 7.14723431e-01]\n",
      " [1.69003517e-02 6.68315393e-02]\n",
      " [7.19671658e-01 3.03339477e-01]\n",
      " [3.42347313e-01 7.35064108e-01]\n",
      " [5.73714322e-01 5.45542936e-01]\n",
      " [6.04545335e-01 6.23460715e-01]\n",
      " [4.21305654e-01 3.15916365e-01]\n",
      " [1.04328400e-01 3.42557052e-01]\n",
      " [3.64722859e-01 1.32193109e-01]\n",
      " [2.37824946e-02 3.09842018e-01]\n",
      " [2.06078174e-01 9.58278537e-01]\n",
      " [4.72248762e-01 4.59743748e-01]\n",
      " [9.24787423e-01 9.83328019e-02]\n",
      " [7.86716219e-01 5.24556178e-01]\n",
      " [9.89418284e-01 4.19835819e-01]\n",
      " [8.00136072e-01 6.73012340e-01]\n",
      " [8.07332119e-01 9.75084476e-01]\n",
      " [2.65549076e-01 6.01027270e-01]\n",
      " [1.87539368e-01 2.89317705e-01]\n",
      " [1.67680422e-01 9.61954532e-01]\n",
      " [6.04031973e-02 9.65990228e-01]\n",
      " [5.93333056e-01 2.89549031e-02]\n",
      " [6.27686497e-01 5.06302133e-01]\n",
      " [7.64960567e-01 9.28559897e-01]\n",
      " [6.60518933e-01 4.05773211e-01]\n",
      " [3.40871530e-01 3.92521254e-01]\n",
      " [1.94970478e-01 1.63866922e-01]\n",
      " [7.17347596e-01 4.20687464e-01]\n",
      " [1.01115702e-01 7.70879914e-01]\n",
      " [8.00461797e-01 2.09883813e-02]\n",
      " [3.30070529e-01 6.48753727e-01]\n",
      " [4.50551591e-01 2.08037107e-01]\n",
      " [5.81550124e-01 1.57121151e-01]\n",
      " [8.07253980e-01 3.67429041e-02]\n",
      " [7.90895714e-01 6.07579617e-02]\n",
      " [7.28348121e-01 8.24565446e-01]\n",
      " [1.05918087e-01 8.72179225e-01]\n",
      " [9.30143628e-01 8.33609988e-01]\n",
      " [3.36422930e-01 5.97287446e-01]\n",
      " [5.64776484e-01 2.57932861e-01]\n",
      " [5.19766792e-01 5.81134033e-01]\n",
      " [1.07936150e-01 4.74146626e-01]\n",
      " [5.17236725e-01 7.30281132e-01]\n",
      " [8.60270436e-01 1.04758879e-01]\n",
      " [4.91609295e-01 5.23127000e-01]\n",
      " [3.27405145e-01 8.78497398e-01]\n",
      " [6.53092065e-01 9.61825605e-01]\n",
      " [8.14244222e-01 8.56724333e-02]\n",
      " [5.66280154e-01 5.71532908e-01]\n",
      " [2.59679860e-02 9.80041881e-01]\n",
      " [2.51573953e-01 6.15776008e-01]\n",
      " [9.75855961e-01 8.78462954e-01]\n",
      " [2.84359611e-01 1.46308945e-02]\n",
      " [5.23153849e-01 7.61102637e-01]\n",
      " [4.09925619e-01 8.62428811e-01]\n",
      " [4.63519544e-01 7.67535572e-01]\n",
      " [2.11376468e-01 4.97300248e-01]\n",
      " [7.65684214e-01 6.80500330e-01]\n",
      " [2.38272705e-01 7.54074209e-01]\n",
      " [9.75023787e-01 4.90889066e-01]\n",
      " [5.92529686e-03 2.16662486e-01]\n",
      " [4.91860299e-01 6.15532528e-01]\n",
      " [4.27597377e-02 1.02971526e-01]\n",
      " [8.33656764e-01 3.24097444e-01]\n",
      " [2.38490467e-01 1.14479030e-01]\n",
      " [7.35573702e-01 8.93477960e-01]\n",
      " [9.84362102e-02 4.94665228e-01]\n",
      " [8.34532498e-01 8.35473683e-01]\n",
      " [4.14642560e-01 8.07314217e-01]\n",
      " [7.59728320e-01 6.03756882e-01]\n",
      " [2.48181878e-01 5.33831699e-01]\n",
      " [4.21710403e-01 8.39880282e-02]\n",
      " [8.96031845e-01 9.52636055e-01]\n",
      " [6.65180528e-01 9.57200665e-01]\n",
      " [4.62744284e-01 3.75570840e-01]\n",
      " [3.77690977e-01 5.33582540e-01]\n",
      " [1.84939236e-01 9.58637935e-01]\n",
      " [7.85447824e-01 1.31006501e-01]\n",
      " [7.77679990e-01 7.42844495e-01]\n",
      " [2.60663625e-01 3.39388551e-01]\n",
      " [4.43259584e-01 5.34306967e-01]\n",
      " [1.19957506e-01 5.09606898e-01]\n",
      " [2.88054679e-01 7.37441339e-01]\n",
      " [5.65319063e-01 4.19449777e-01]\n",
      " [6.78921632e-01 2.46859605e-01]\n",
      " [3.95474583e-01 9.74924402e-01]\n",
      " [9.94994328e-01 6.19175344e-01]\n",
      " [5.72315108e-01 6.97892592e-01]\n",
      " [5.89858471e-02 8.67136903e-01]\n",
      " [8.92536422e-01 4.10866235e-01]\n",
      " [9.41321436e-02 5.51431857e-01]\n",
      " [5.63896318e-01 3.13037258e-01]\n",
      " [6.60592632e-02 3.77049841e-01]\n",
      " [3.02858550e-01 8.08096434e-01]\n",
      " [6.25987932e-01 2.89905181e-02]\n",
      " [6.88853424e-01 4.29542969e-01]\n",
      " [2.84730894e-01 7.78019698e-01]\n",
      " [1.31304727e-01 5.03402139e-01]\n",
      " [8.84855643e-01 6.13414604e-02]\n",
      " [6.52755537e-02 5.47802778e-01]\n",
      " [7.97727227e-01 3.68426730e-01]\n",
      " [4.20092037e-01 6.34708714e-01]\n",
      " [8.26732217e-01 8.89850506e-01]\n",
      " [7.90586080e-01 7.09040751e-01]\n",
      " [1.44127476e-01 6.87186242e-01]\n",
      " [1.04400345e-01 6.62003505e-01]\n",
      " [3.12930497e-01 3.60368811e-02]]\n",
      "[0. 0. 0. 1. 1. 0. 0. 1. 0. 0. 0. 1. 1. 1. 1. 0. 1. 0. 1. 0. 1. 0. 0. 0.\n",
      " 0. 1. 1. 0. 0. 0. 1. 1. 1. 0. 1. 1. 1. 1. 1. 1. 1. 1. 0. 1. 0. 0. 0. 0.\n",
      " 1. 0. 0. 0. 1. 0. 0. 1. 1. 1. 0. 1. 1. 1. 0. 1. 0. 1. 0. 1. 1. 1. 1. 0.\n",
      " 1. 1. 0. 0. 1. 0. 0. 1. 1. 0. 1. 1. 1. 0. 1. 0. 0. 1. 1. 0. 1. 0. 1. 0.\n",
      " 0. 0. 0. 0. 0. 0. 0. 0. 0. 1. 0. 1. 0. 0. 0. 1. 0. 1. 0. 1. 0. 0. 0. 0.\n",
      " 1. 0. 1. 0. 0. 1. 0. 0. 0. 0. 0. 0. 0. 0. 1. 1. 1. 0. 1. 0. 1. 1. 0. 1.\n",
      " 1. 0. 0. 1. 0. 0. 1. 0. 0. 1. 0. 1. 0. 0. 0. 0. 0. 0. 1. 0. 1. 0. 0. 1.\n",
      " 1. 0. 0. 0. 0. 1. 1. 0. 0. 1. 1. 0. 0. 0. 0. 0. 0. 0. 0. 0. 0. 0. 1. 1.\n",
      " 1. 0. 0. 0. 1. 0. 1. 1. 1. 1. 1. 0. 1. 1. 1. 0. 0. 0. 0. 0. 0. 1. 1. 1.\n",
      " 1. 0. 0. 1. 0. 0. 0. 1. 1. 1. 0. 0. 0. 1. 0. 1. 1. 1. 0. 1. 0. 0. 1. 0.\n",
      " 1. 0. 0. 1. 1. 1. 0. 1. 0. 0. 1. 0. 1. 0. 0. 0. 1. 1. 0. 1. 0. 0. 0. 0.\n",
      " 0. 0. 1. 0. 0. 0. 0. 1. 0. 0. 1. 1. 1. 1. 0. 1. 0. 0. 0. 0. 1. 0. 1. 1.\n",
      " 0. 0. 1. 1. 1. 0. 0. 0. 0. 1. 1. 0. 0. 1. 0. 0. 0. 0. 1. 0. 1. 1. 0. 0.\n",
      " 1. 0. 0. 1. 0. 0. 0. 1. 1. 0. 0. 0. 0. 0. 0. 0. 0. 1. 1. 0. 0. 1. 1. 0.\n",
      " 0. 0. 0. 0. 0. 1. 0. 1. 0. 0. 0. 0. 0. 1. 1. 1. 0. 0. 0. 1. 0. 1. 1. 1.\n",
      " 0. 0. 1. 0. 0. 1. 0. 0. 1. 1. 1. 1. 0. 1. 1. 0. 0. 1. 0. 1. 1. 1. 1. 0.\n",
      " 0. 1. 0. 0. 0. 0. 0. 0. 0. 0. 0. 0. 1. 1. 1. 0. 0. 0. 0. 1. 1. 0. 1. 1.\n",
      " 1. 0. 0. 0. 0. 0. 0. 1. 0. 1. 0. 0. 1. 0. 0. 0. 0. 0. 0. 0. 1. 0. 0. 0.\n",
      " 0. 1. 0. 1. 0. 1. 1. 1. 0. 1. 0. 0. 0. 0. 1. 1. 1. 0. 1. 0. 1. 0. 1. 0.\n",
      " 0. 0. 1. 0. 0. 1. 1. 0. 0. 0. 1. 0. 0. 0. 0. 1. 0. 1. 0. 0. 1. 0. 1. 1.\n",
      " 1. 0. 1. 0. 1. 0. 1. 0. 1. 0. 0. 0. 0. 0. 1. 0. 1. 0. 0. 0.]\n"
     ]
    }
   ],
   "source": [
    "Blutwerte = np.load(\"Blutwerte.npy\")\n",
    "Infiziert = np.load(\"Infiziert.npy\")\n",
    "print(Blutwerte)\n",
    "print(Infiziert)"
   ]
  },
  {
   "cell_type": "markdown",
   "metadata": {},
   "source": [
    "Um die Daten darzustellen können wir die Personen in zwei Gruppen einteilen:"
   ]
  },
  {
   "cell_type": "code",
   "execution_count": 222,
   "metadata": {},
   "outputs": [
    {
     "data": {
      "image/png": "[encoded data removed]",
      "text/plain": [
       "<Figure size 432x288 with 1 Axes>"
      ]
     },
     "metadata": {
      "needs_background": "light"
     },
     "output_type": "display_data"
    }
   ],
   "source": [
    "Patienten_Positiv = Blutwerte[Infiziert==1]\n",
    "Patienten_Negativ = Blutwerte[Infiziert==0]\n",
    "\n",
    "import matplotlib.pyplot as plt\n",
    "plt.scatter(Patienten_Positiv[:, 0], Patienten_Positiv[:, 1], color=\"red\")\n",
    "plt.scatter(Patienten_Negativ[:, 0], Patienten_Negativ[:, 1], color=\"black\")\n",
    "plt.xlabel(\"Blutwert 1\")\n",
    "plt.ylabel(\"Blutwert 2\")\n",
    "plt.show()"
   ]
  },
  {
   "cell_type": "markdown",
   "metadata": {},
   "source": [
    "Es werden nun Blutwerte von neuen Patienten gemessen. Anhand der bisherigen Ergebnisse soll abgeschätzt werden, ob die Patienten infiziert oder nicht infiziert sein könnten.\n",
    "\n",
    "Für diese Abschätzung nutzen wir die Nächste-Nachbarn-Klassifikationsmethode. Wir bestimmen zuerst für den neuen Datenpunkt die drei nächsten Nachbarn in den bisherigen Daten.  Wenn zwei oder drei der Nachbarn positiv gestestet wurden, deklarieren wir den neuen Patienten ebenfalls als positiv. Ansonsten (das heißt bei null oder nur einem positiven Nachbarn) deklarieren wir den neuen Patienten als negativ.\n",
    "\n",
    "Laden sie die Blutwerte der neuen zehn Patienten ein (\"Neue_Blutwerte.npy\")."
   ]
  },
  {
   "cell_type": "code",
   "execution_count": 223,
   "metadata": {},
   "outputs": [
    {
     "name": "stdout",
     "output_type": "stream",
     "text": [
      "[[0.6  0.28]\n",
      " [0.2  0.6 ]\n",
      " [0.8  0.6 ]\n",
      " [0.55 0.9 ]\n",
      " [0.24 0.82]\n",
      " [0.55 0.9 ]\n",
      " [0.91 0.35]\n",
      " [0.33 0.78]\n",
      " [0.95 0.14]\n",
      " [0.71 0.3 ]]\n"
     ]
    }
   ],
   "source": [
    "NeuePartienten = np.load(\"Neue_Blutwerte.npy\")\n",
    "print(NeuePartienten)"
   ]
  },
  {
   "cell_type": "markdown",
   "metadata": {},
   "source": [
    "Bestimmen Sie für jeden der neuen Blutwerte, den euklidischen Abstand zu den 500 bisherigen Datenpunkten. Sie können dafür ein Array definieren welches die Abstände speichert (Größe (500, 10)). Für den euklidischen Abstand brauchen sie die Wurzelfunktion, die ist gegeben durch:"
   ]
  },
  {
   "cell_type": "code",
   "execution_count": 227,
   "metadata": {},
   "outputs": [
    {
     "name": "stdout",
     "output_type": "stream",
     "text": [
      "[[0.8, 0.55, 0.55, 0.91, 0.71], [0.6, 0.9, 0.9, 0.35, 0.3]]\n"
     ]
    }
   ],
   "source": [
    "def getdistance(pointa, pointb):\n",
    "    xdist = pointa[0] - pointb[0]\n",
    "    ydist = pointa[1] - pointb[1]\n",
    "    return np.sqrt(xdist**2 + ydist**2)\n",
    "\n",
    "def Healthcheck(NeuerPartient,Data_Positiv, Data_Negativ):\n",
    "    distHealthy = []\n",
    "    distSick = []\n",
    "    for case in Data_Positiv:\n",
    "        distSick.append(getdistance(NeuerPartient,case))\n",
    "    for case in Data_Negativ:\n",
    "        distHealthy.append(getdistance(NeuerPartient,case))\n",
    "\n",
    "    distHealthy.sort()\n",
    "    distSick.sort()\n",
    "    NextHealthy = distHealthy[:3]\n",
    "    NextSick = distSick[:3]\n",
    "    NextOnes = [[],[],[],[],[],[]]\n",
    "    for cnt in range(3):\n",
    "        NextOnes[cnt].append(NextHealthy[cnt])\n",
    "        NextOnes[cnt].append(0)\n",
    "    for cnt in range(3):\n",
    "        NextOnes[cnt+3].append(NextSick[cnt])\n",
    "        NextOnes[cnt+3].append(1)\n",
    "\n",
    "    NextOnes.sort(key=lambda NextOnes:NextOnes[0])\n",
    "\n",
    "    NextOnes = NextOnes[:][:3]\n",
    "\n",
    "    temp = 0\n",
    "    for cnt in range(3):\n",
    "        temp += NextOnes[cnt][1]\n",
    "\n",
    "    if temp >= 2: return True\n",
    "    else: return False\n",
    "  \n",
    "New_Sick = [[],[]]\n",
    "New_Healthy = [[],[]]\n",
    "\n",
    "for case in NeuePartienten:\n",
    "    buff = Healthcheck(case, Patienten_Positiv, Patienten_Negativ)\n",
    "    if buff:\n",
    "        New_Sick[0].append(case[0])\n",
    "        New_Sick[1].append(case[1])\n",
    "    else:\n",
    "        New_Healthy[0].append(case[0])\n",
    "        New_Healthy[1].append(case[1])\n",
    "        \n",
    "print(New_Sick)"
   ]
  },
  {
   "cell_type": "markdown",
   "metadata": {},
   "source": [
    "Bestimmen Sie jetzt für die 10 neuen Datenpunkte in welche Kategorie sie fallen, indem Sie die drei nächsten Nachbarn bestimmen und auf Grund deren Testergebnis entscheiden. Überprüfen Sie Ergebnis indem Sie die neuen Punkte mit in die Abbildung plotten (in einer neuen Farbe)."
   ]
  },
  {
   "cell_type": "code",
   "execution_count": 226,
   "metadata": {},
   "outputs": [
    {
     "data": {
      "image/png": "[encoded data removed]",
      "text/plain": [
       "<Figure size 432x288 with 1 Axes>"
      ]
     },
     "metadata": {
      "needs_background": "light"
     },
     "output_type": "display_data"
    }
   ],
   "source": [
    "plt.scatter(Patienten_Positiv[:, 0], Patienten_Positiv[:, 1], color=\"red\")\n",
    "plt.scatter(Patienten_Negativ[:, 0], Patienten_Negativ[:, 1], color=\"black\")\n",
    "plt.scatter(New_Healthy[0][:], New_Healthy[1][:], color=\"y\")\n",
    "plt.scatter(New_Sick[0][:], New_Sick[1][:], color=\"b\")\n",
    "plt.xlabel(\"Blutwert 1\")\n",
    "plt.ylabel(\"Blutwert 2\")\n",
    "plt.show()\n"
   ]
  },
  {
   "cell_type": "markdown",
   "metadata": {},
   "source": [
    "Nächste Nachbar Suchen können unter Umständen sehr aufwendig werden, wenn es um große Daten geht. Insbesondere die Berechnung der Abstandsmatrix dauert dann lange und nimmt viel Speicher in Anspruch. Nehmen Sie an, Sie haben $N=1.000.000$ Datenpunkte und berechnen den Abstand jedes Datenpunktes zu allen anderen Punkten (d.h. eine NxN Matrix). Jeder Eintrag ist eine float Zahl und hat die Größe von 4 byte. Wie viel Platz belegt dann allein die Abstandsmatrix im Speicher (geben Sie die Größe in einer passenden Einheit an, $1 \\rm kb \\approx 1000 \\rm \\, byte$ usw.)."
   ]
  },
  {
   "cell_type": "code",
   "execution_count": 228,
   "metadata": {},
   "outputs": [
    {
     "name": "stdout",
     "output_type": "stream",
     "text": [
      "Diese Berechnung benötigt 4000000000.0 kb\n"
     ]
    }
   ],
   "source": [
    "N = 1000000\n",
    "K = 1000\n",
    "F = 4\n",
    "s = (N**2)*(F/K)\n",
    "print(\"Diese Berechnung benötigt \" + str(s) + \" kb\" )"
   ]
  },
  {
   "cell_type": "markdown",
   "metadata": {},
   "source": [
    "Auch diese Aufgabe fällt in einen Bereich den wir bereits in der 1. Vorlesung besprochen haben. In welche Kategorie fällt die Analyse (in der Abbildung auf Seite 15 des Skripts der 1. Vorlesung)."
   ]
  },
  {
   "cell_type": "code",
   "execution_count": null,
   "metadata": {},
   "outputs": [],
   "source": []
  }
 ],
 "metadata": {
  "kernelspec": {
   "display_name": "Python 3",
   "language": "python",
   "name": "python3"
  },
  "language_info": {
   "codemirror_mode": {
    "name": "ipython",
    "version": 3
   },
   "file_extension": ".py",
   "mimetype": "text/x-python",
   "name": "python",
   "nbconvert_exporter": "python",
   "pygments_lexer": "ipython3",
   "version": "3.7.4"
  }
 },
 "nbformat": 4,
 "nbformat_minor": 2
}
